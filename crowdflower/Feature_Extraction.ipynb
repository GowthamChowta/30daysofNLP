{
  "nbformat": 4,
  "nbformat_minor": 0,
  "metadata": {
    "kernelspec": {
      "display_name": "Python 3",
      "language": "python",
      "name": "python3"
    },
    "language_info": {
      "codemirror_mode": {
        "name": "ipython",
        "version": 3
      },
      "file_extension": ".py",
      "mimetype": "text/x-python",
      "name": "python",
      "nbconvert_exporter": "python",
      "pygments_lexer": "ipython3",
      "version": "3.7.4"
    },
    "colab": {
      "name": "Feature Extraction.ipynb",
      "provenance": []
    }
  },
  "cells": [
    {
      "cell_type": "code",
      "metadata": {
        "id": "8cCi2GQU4o2z"
      },
      "source": [
        "# All import statements\n",
        "import pandas as pd\n",
        "import numpy as np\n",
        "import matplotlib.pyplot as plt\n",
        "import seaborn as sns\n",
        "import missingno\n",
        "from bs4 import BeautifulSoup\n",
        "from datetime import datetime\n",
        "import re\n",
        "import nltk\n",
        "from nltk.corpus import stopwords\n",
        "from sklearn.model_selection import train_test_split\n",
        "from sklearn.feature_extraction.text import CountVectorizer,TfidfVectorizer\n",
        "import pickle\n",
        "from nltk.stem import PorterStemmer \n",
        "from nltk.util import ngrams\n",
        "from nltk.tokenize import word_tokenize\n",
        "# pd.set_option('mode.chained_assignment', None)"
      ],
      "execution_count": null,
      "outputs": []
    },
    {
      "cell_type": "code",
      "metadata": {
        "colab": {
          "base_uri": "https://localhost:8080/"
        },
        "id": "s_LtcrYzUnmw",
        "outputId": "7454703b-8bc3-453f-9039-97572b68f925"
      },
      "source": [
        "from google.colab import drive\r\n",
        "drive.mount('/content/drive')"
      ],
      "execution_count": null,
      "outputs": [
        {
          "output_type": "stream",
          "text": [
            "Mounted at /content/drive\n"
          ],
          "name": "stdout"
        }
      ]
    },
    {
      "cell_type": "code",
      "metadata": {
        "id": "nkCFBwC7Utoj"
      },
      "source": [
        "home_path = '/content/drive/MyDrive/crowdflower/'"
      ],
      "execution_count": null,
      "outputs": []
    },
    {
      "cell_type": "code",
      "metadata": {
        "id": "OgDcF8RzU_cm"
      },
      "source": [
        "df = pickle.load(open(home_path+'data/main_df.pkl','rb'))"
      ],
      "execution_count": null,
      "outputs": []
    },
    {
      "cell_type": "code",
      "metadata": {
        "colab": {
          "base_uri": "https://localhost:8080/",
          "height": 234
        },
        "id": "GfkbHvzhXZdr",
        "outputId": "69f98f3e-32bd-450b-86f7-caab9a0add32"
      },
      "source": [
        "df.head(2)"
      ],
      "execution_count": null,
      "outputs": [
        {
          "output_type": "execute_result",
          "data": {
            "text/html": [
              "<div>\n",
              "<style scoped>\n",
              "    .dataframe tbody tr th:only-of-type {\n",
              "        vertical-align: middle;\n",
              "    }\n",
              "\n",
              "    .dataframe tbody tr th {\n",
              "        vertical-align: top;\n",
              "    }\n",
              "\n",
              "    .dataframe thead th {\n",
              "        text-align: right;\n",
              "    }\n",
              "</style>\n",
              "<table border=\"1\" class=\"dataframe\">\n",
              "  <thead>\n",
              "    <tr style=\"text-align: right;\">\n",
              "      <th></th>\n",
              "      <th>id</th>\n",
              "      <th>query</th>\n",
              "      <th>product_title</th>\n",
              "      <th>product_description</th>\n",
              "      <th>median_relevance</th>\n",
              "      <th>relevance_variance</th>\n",
              "      <th>cleaned_query1</th>\n",
              "      <th>cleaned_query</th>\n",
              "      <th>cleaned_product_title</th>\n",
              "      <th>cleaned_product_description</th>\n",
              "      <th>ste_cleaned_product_title</th>\n",
              "      <th>ste_cleaned_product_description</th>\n",
              "      <th>product_description_len</th>\n",
              "      <th>product_title_len</th>\n",
              "      <th>query_product_title_words_overlap</th>\n",
              "    </tr>\n",
              "  </thead>\n",
              "  <tbody>\n",
              "    <tr>\n",
              "      <th>0</th>\n",
              "      <td>1</td>\n",
              "      <td>bridal shower decorations</td>\n",
              "      <td>Accent Pillow with Heart Design - Red/Black</td>\n",
              "      <td>Red satin accent pillow embroidered with a hea...</td>\n",
              "      <td>1</td>\n",
              "      <td>0.0</td>\n",
              "      <td>bridal shower decor</td>\n",
              "      <td>bridal_shower_decorations</td>\n",
              "      <td>accent pillow heart design red black</td>\n",
              "      <td>red satin accent pillow embroidered heart blac...</td>\n",
              "      <td>accent pillow heart design red black</td>\n",
              "      <td>red satin accent pillow embroid heart black th...</td>\n",
              "      <td>36</td>\n",
              "      <td>50</td>\n",
              "      <td>0.0</td>\n",
              "    </tr>\n",
              "    <tr>\n",
              "      <th>1</th>\n",
              "      <td>2</td>\n",
              "      <td>led christmas lights</td>\n",
              "      <td>Set of 10 Battery Operated Multi LED Train Chr...</td>\n",
              "      <td>Set of 10 Battery Operated Train Christmas Lig...</td>\n",
              "      <td>4</td>\n",
              "      <td>0.0</td>\n",
              "      <td>led christma light</td>\n",
              "      <td>led_christmas_lights</td>\n",
              "      <td>set 10 battery operated multi led train christ...</td>\n",
              "      <td>set 10 battery operated train christmas lights...</td>\n",
              "      <td>set 10 batteri oper multi led train christma l...</td>\n",
              "      <td>set 10 batteri oper train christma light item ...</td>\n",
              "      <td>61</td>\n",
              "      <td>643</td>\n",
              "      <td>1.0</td>\n",
              "    </tr>\n",
              "  </tbody>\n",
              "</table>\n",
              "</div>"
            ],
            "text/plain": [
              "   id  ... query_product_title_words_overlap\n",
              "0   1  ...                               0.0\n",
              "1   2  ...                               1.0\n",
              "\n",
              "[2 rows x 15 columns]"
            ]
          },
          "metadata": {
            "tags": []
          },
          "execution_count": 58
        }
      ]
    },
    {
      "cell_type": "code",
      "metadata": {
        "id": "I2pXEW_1XxYZ"
      },
      "source": [
        "token_pattern = r\"\\b\\w\\w+\\b\"\r\n",
        "\r\n",
        "def tokens(text):\r\n",
        "    token = re.compile(token_pattern, flags = re.UNICODE)\r\n",
        "    tokens = [x for x in token.findall(text)]\r\n",
        "    return tokens"
      ],
      "execution_count": null,
      "outputs": []
    },
    {
      "cell_type": "markdown",
      "metadata": {
        "id": "BYWss1TL4o3A"
      },
      "source": [
        "# Counting features"
      ]
    },
    {
      "cell_type": "code",
      "metadata": {
        "id": "g2sHG0VR4o3A"
      },
      "source": [
        "def total_word_count(row):\n",
        "    \n",
        "    return [len(row['cleaned_query1'].split()),len(row['ste_cleaned_product_title'].split()),len(row['ste_cleaned_product_description'].split())]"
      ],
      "execution_count": null,
      "outputs": []
    },
    {
      "cell_type": "code",
      "metadata": {
        "id": "K0qUqUjI4o3A"
      },
      "source": [
        "def commonwords(row):\n",
        "    query = set(row['cleaned_query1'].split())\n",
        "    title = set(row['ste_cleaned_product_title'].split())\n",
        "    description = set(row['ste_cleaned_product_description'].split())\n",
        "    \n",
        "    return [len(query&title),len(title&description),len(description&query),len(query&title&description)]"
      ],
      "execution_count": null,
      "outputs": []
    },
    {
      "cell_type": "code",
      "metadata": {
        "id": "A0H6T1SVcM7W"
      },
      "source": [
        "def commonwords_ratio(row):\r\n",
        "    query_words = row['cleaned_query1'].split()\r\n",
        "    query_words_count = len(query_words)\r\n",
        "    title_words = row['ste_cleaned_product_title'].split()\r\n",
        "    title_words_count = len(title_words)\r\n",
        "    description_words = row['ste_cleaned_product_description'].split()\r\n",
        "    description_words_count = len(description_words)\r\n",
        "\r\n",
        "    query = set(row['cleaned_query1'].split())\r\n",
        "    title = set(row['ste_cleaned_product_title'].split())\r\n",
        "    description = set(row['ste_cleaned_product_description'].split())\r\n",
        "    \r\n",
        "    return [len(query&title)/max(query_words_count,title_words_count),len(title&description)/max(title_words_count,description_words_count),\r\n",
        "            len(description&query)/max(description_words_count,query_words_count),\r\n",
        "            len(query&title&description)/max(query_words_count,title_words_count,description_words_count)]"
      ],
      "execution_count": null,
      "outputs": []
    },
    {
      "cell_type": "code",
      "metadata": {
        "id": "1UH3mq0S4o3A"
      },
      "source": [
        "def try_divide(x, y, val=0.0):\n",
        "    \"\"\" \n",
        "    \tTry to divide two numbers\n",
        "    \"\"\"\n",
        "    if y != 0.0:\n",
        "    \tval = float(x) / y\n",
        "    return val"
      ],
      "execution_count": null,
      "outputs": []
    },
    {
      "cell_type": "code",
      "metadata": {
        "id": "gs6V_UGo4o3B"
      },
      "source": [
        "def get_position_list(target, obs):\n",
        "    \"\"\"\n",
        "        Get the list of positions of obs in target\n",
        "    \"\"\"\n",
        "    pos_of_obs_in_target = [0]\n",
        "    if len(obs) != 0:\n",
        "        pos_of_obs_in_target = [j for j,w in enumerate(obs, start=1) if w in target]\n",
        "        if len(pos_of_obs_in_target) == 0:\n",
        "            pos_of_obs_in_target = [0]\n",
        "    return pos_of_obs_in_target"
      ],
      "execution_count": null,
      "outputs": []
    },
    {
      "cell_type": "code",
      "metadata": {
        "id": "q-2rCCJv4o3B"
      },
      "source": [
        "def gen_ngrams(text,num):\n",
        "    \n",
        "    n_grams = ngrams(text,num)\n",
        "    return [item for item in n_grams]\n",
        "    "
      ],
      "execution_count": null,
      "outputs": []
    },
    {
      "cell_type": "code",
      "metadata": {
        "id": "RzjObYHK4o3C"
      },
      "source": [
        "def extract_count_features():\n",
        "    \n",
        "    #Generate Unigram\n",
        "    df[\"query_unigram\"] = list(df.apply(lambda x: tokens(x[\"cleaned_query1\"]), axis=1))\n",
        "    df[\"title_unigram\"] = list(df.apply(lambda x: tokens(x[\"ste_cleaned_product_title\"]), axis=1))\n",
        "    df[\"description_unigram\"] = list(df.apply(lambda x: tokens(x[\"ste_cleaned_product_description\"]), axis=1))\n",
        "    \n",
        "    print('*******'*10)\n",
        "    print('Starting Bigrams')\n",
        "    #Generate Bigram\n",
        "    df[\"query_bigram\"] = list(df.apply(lambda x: gen_ngrams(x[\"query_unigram\"], 2), axis=1))\n",
        "    df[\"title_bigram\"] = list(df.apply(lambda x: gen_ngrams(x[\"title_unigram\"], 2), axis=1))\n",
        "    df[\"description_bigram\"] = list(df.apply(lambda x: gen_ngrams(x[\"description_unigram\"], 2), axis=1))\n",
        "    \n",
        "    print('Starting Trigrams')\n",
        "    # Generate Trigram\n",
        "    df[\"query_trigram\"] = list(df.apply(lambda x: gen_ngrams(x[\"query_unigram\"], 3), axis=1))\n",
        "    df[\"title_trigram\"] = list(df.apply(lambda x: gen_ngrams(x[\"title_unigram\"], 3), axis=1))\n",
        "    df[\"description_trigram\"] = list(df.apply(lambda x: gen_ngrams(x[\"description_unigram\"], 3), axis=1))\n",
        "    \n",
        "    feat_names = [\"query\", \"title\", \"description\"]\n",
        "    grams = [\"unigram\", \"bigram\", \"trigram\"]\n",
        "    \n",
        "    print('Starting count feature')\n",
        "    count_digit = lambda x: sum([1. for w in x if w.isdigit()])\n",
        "    for feat_name in feat_names:\n",
        "        for gram in grams:\n",
        "            ## word count\n",
        "            df[\"count_of_%s_%s\"%(feat_name,gram)] = list(df.apply(lambda x: len(x[feat_name+\"_\"+gram]), axis=1))\n",
        "            df[\"count_of_unique_%s_%s\"%(feat_name,gram)] = list(df.apply(lambda x: len(set(x[feat_name+\"_\"+gram])), axis=1))\n",
        "            df[\"ratio_of_unique_%s_%s\"%(feat_name,gram)] = list(map(try_divide, df[\"count_of_unique_%s_%s\"%(feat_name,gram)], df[\"count_of_%s_%s\"%(feat_name,gram)]))\n",
        "\n",
        "        ## digit count\n",
        "        df[\"count_of_digit_in_%s\"%feat_name] = list(df.apply(lambda x: count_digit(x[feat_name+\"_unigram\"]), axis=1))\n",
        "        df[\"ratio_of_digit_in_%s\"%feat_name] = list(map(try_divide, df[\"count_of_digit_in_%s\"%feat_name], df[\"count_of_%s_unigram\"%(feat_name)]))\n",
        "    df[\"description_missing\"] = list(df.apply(lambda x: int(x[\"description_unigram\"] == \"\"), axis=1))\n",
        "    print('Intersection features')\n",
        "    for gram in grams:\n",
        "        for obs_name in feat_names:\n",
        "            for target_name in feat_names:\n",
        "                if target_name != obs_name:\n",
        "                    ## query\n",
        "                    df[\"count_of_%s_%s_in_%s\"%(obs_name,gram,target_name)] = list(df.apply(lambda x: sum([1. for w in x[obs_name+\"_\"+gram] if w in set(x[target_name+\"_\"+gram])]), axis=1))\n",
        "                    df[\"ratio_of_%s_%s_in_%s\"%(obs_name,gram,target_name)] = list(map(try_divide, df[\"count_of_%s_%s_in_%s\"%(obs_name,gram,target_name)], df[\"count_of_%s_%s\"%(obs_name,gram)]))\n",
        "\n",
        "        ## some other feat\n",
        "        df[\"title_%s_in_query_div_query_%s\"%(gram,gram)] = list(map(try_divide, df[\"count_of_title_%s_in_query\"%gram], df[\"count_of_query_%s\"%gram]))\n",
        "        df[\"title_%s_in_query_div_query_%s_in_title\"%(gram,gram)] = list(map(try_divide, df[\"count_of_title_%s_in_query\"%gram], df[\"count_of_query_%s_in_title\"%gram]))\n",
        "        df[\"description_%s_in_query_div_query_%s\"%(gram,gram)] = list(map(try_divide, df[\"count_of_description_%s_in_query\"%gram], df[\"count_of_query_%s\"%gram]))\n",
        "        df[\"description_%s_in_query_div_query_%s_in_description\"%(gram,gram)] = list(map(try_divide, df[\"count_of_description_%s_in_query\"%gram], df[\"count_of_query_%s_in_description\"%gram]))\n",
        "    print('starting with position features')\n",
        "    for gram in grams:\n",
        "        for target_name in feat_names:\n",
        "            for obs_name in feat_names:\n",
        "                if target_name != obs_name:\n",
        "                    pos = list(df.apply(lambda x: get_position_list(x[target_name+\"_\"+gram], obs=x[obs_name+\"_\"+gram]), axis=1))\n",
        "                    ## stats feat on pos\n",
        "                    df[\"pos_of_%s_%s_in_%s_min\" % (obs_name, gram, target_name)] = list(map(np.min, pos))\n",
        "                    df[\"pos_of_%s_%s_in_%s_mean\" % (obs_name, gram, target_name)] = list(map(np.mean, pos))\n",
        "                    df[\"pos_of_%s_%s_in_%s_median\" % (obs_name, gram, target_name)] = list(map(np.median, pos))\n",
        "                    df[\"pos_of_%s_%s_in_%s_max\" % (obs_name, gram, target_name)] = list(map(np.max, pos))\n",
        "                    df[\"pos_of_%s_%s_in_%s_std\" % (obs_name, gram, target_name)] = list(map(np.std, pos))\n",
        "                    ## stats feat on normalized_pos\n",
        "                    df[\"normalized_pos_of_%s_%s_in_%s_min\" % (obs_name, gram, target_name)] = list(map(try_divide, df[\"pos_of_%s_%s_in_%s_min\" % (obs_name, gram, target_name)], df[\"count_of_%s_%s\" % (obs_name, gram)]))\n",
        "                    df[\"normalized_pos_of_%s_%s_in_%s_mean\" % (obs_name, gram, target_name)] = list(map(try_divide, df[\"pos_of_%s_%s_in_%s_mean\" % (obs_name, gram, target_name)], df[\"count_of_%s_%s\" % (obs_name, gram)]))\n",
        "                    df[\"normalized_pos_of_%s_%s_in_%s_median\" % (obs_name, gram, target_name)] = list(map(try_divide, df[\"pos_of_%s_%s_in_%s_median\" % (obs_name, gram, target_name)], df[\"count_of_%s_%s\" % (obs_name, gram)]))\n",
        "                    df[\"normalized_pos_of_%s_%s_in_%s_max\" % (obs_name, gram, target_name)] = list(map(try_divide, df[\"pos_of_%s_%s_in_%s_max\" % (obs_name, gram, target_name)], df[\"count_of_%s_%s\" % (obs_name, gram)]))\n",
        "                    df[\"normalized_pos_of_%s_%s_in_%s_std\" % (obs_name, gram, target_name)] = list(map(try_divide, df[\"pos_of_%s_%s_in_%s_std\" % (obs_name, gram, target_name)] , df[\"count_of_%s_%s\" % (obs_name, gram)]))\n",
        "           \n",
        "    return df\n",
        "    "
      ],
      "execution_count": null,
      "outputs": []
    },
    {
      "cell_type": "code",
      "metadata": {
        "colab": {
          "base_uri": "https://localhost:8080/"
        },
        "id": "fupQG0WfIsDv",
        "outputId": "a2a9f36e-d4d3-4490-a632-a8786b06abbc"
      },
      "source": [
        "out = extract_count_features()"
      ],
      "execution_count": null,
      "outputs": [
        {
          "output_type": "stream",
          "text": [
            "**********************************************************************\n",
            "Starting Bigrams\n"
          ],
          "name": "stdout"
        },
        {
          "output_type": "stream",
          "text": [
            "/usr/local/lib/python3.6/dist-packages/ipykernel_launcher.py:4: DeprecationWarning: generator 'ngrams' raised StopIteration\n",
            "  after removing the cwd from sys.path.\n"
          ],
          "name": "stderr"
        },
        {
          "output_type": "stream",
          "text": [
            "Starting Trigrams\n",
            "Starting count feature\n",
            "Intersection features\n",
            "starting with position features\n"
          ],
          "name": "stdout"
        }
      ]
    },
    {
      "cell_type": "code",
      "metadata": {
        "id": "E3sx1hEObv9C"
      },
      "source": [
        "df[['query_wc','product_title_wc','product_description_wc']] = df.apply(\r\n",
        "    lambda x:total_word_count(x),axis = 1,result_type='expand')\r\n",
        "\r\n",
        "\r\n",
        "df[['query_title_cwc','title_desc_cwc','desc_query_cwc','query_title_dec_cwc']] = df.apply(\r\n",
        "    lambda x:commonwords(x),axis = 1,result_type='expand')"
      ],
      "execution_count": null,
      "outputs": []
    },
    {
      "cell_type": "code",
      "metadata": {
        "id": "pLqxEJdZdidz"
      },
      "source": [
        "df[['query_title_cwc_ratio','title_desc_cwc_ratio','desc_query_cwc_ratio','query_title_dec_cwc_ratio']] = df.apply(\r\n",
        "    lambda x:commonwords_ratio(x),axis = 1,result_type='expand')"
      ],
      "execution_count": null,
      "outputs": []
    },
    {
      "cell_type": "code",
      "metadata": {
        "id": "1HIn6z5NjwfW"
      },
      "source": [
        "df['global_average'] = np.mean(df.median_relevance)\r\n",
        "df['global_std'] = np.std(df.median_relevance)"
      ],
      "execution_count": null,
      "outputs": []
    },
    {
      "cell_type": "code",
      "metadata": {
        "id": "yotVPbf9XiZU"
      },
      "source": [
        "path = '/content/drive/MyDrive/crowdflower/data/'\r\n",
        "df.to_csv(path+'count_features.csv',index=False)"
      ],
      "execution_count": null,
      "outputs": []
    },
    {
      "cell_type": "code",
      "metadata": {
        "id": "bWZSmuOJY90S"
      },
      "source": [
        ""
      ],
      "execution_count": null,
      "outputs": []
    }
  ]
}