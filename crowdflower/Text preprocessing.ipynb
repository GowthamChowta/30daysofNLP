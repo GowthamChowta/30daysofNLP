{
 "cells": [
  {
   "cell_type": "code",
   "execution_count": 1,
   "metadata": {},
   "outputs": [
    {
     "name": "stderr",
     "output_type": "stream",
     "text": [
      "C:\\ProgramData\\Anaconda3\\lib\\site-packages\\numpy\\_distributor_init.py:32: UserWarning: loaded more than 1 DLL from .libs:\n",
      "C:\\ProgramData\\Anaconda3\\lib\\site-packages\\numpy\\.libs\\libopenblas.PYQHXLVVQ7VESDPUVUADXEVJOBGHJPAY.gfortran-win_amd64.dll\n",
      "C:\\ProgramData\\Anaconda3\\lib\\site-packages\\numpy\\.libs\\libopenblas.WCDJNK7YVMPZQ2ME2ZZHJJRJ3JIKNDB7.gfortran-win_amd64.dll\n",
      "  stacklevel=1)\n"
     ]
    }
   ],
   "source": [
    "# All import statements\n",
    "import pandas as pd\n",
    "import numpy as np\n",
    "import matplotlib.pyplot as plt\n",
    "import seaborn as sns\n",
    "import missingno\n",
    "from bs4 import BeautifulSoup\n",
    "from datetime import datetime\n",
    "import re\n",
    "import nltk\n",
    "from nltk.corpus import stopwords\n",
    "from sklearn.model_selection import train_test_split\n",
    "from sklearn.feature_extraction.text import CountVectorizer,TfidfVectorizer\n",
    "import pickle\n",
    "from nltk.stem import PorterStemmer \n",
    "from nltk.util import ngrams\n",
    "from nltk.tokenize import word_tokenize\n",
    "from tqdm import tqdm\n",
    "from prettytable import PrettyTable\n",
    "tqdm.pandas()"
   ]
  },
  {
   "cell_type": "code",
   "execution_count": 2,
   "metadata": {},
   "outputs": [],
   "source": [
    "df = pd.read_csv('train.csv')\n",
    "synonmys = pd.read_csv('synonyms.csv',names=['act','exp'])\n",
    "replace_dict = pickle.load(open('replace.pkl','rb'))"
   ]
  },
  {
   "cell_type": "code",
   "execution_count": 109,
   "metadata": {},
   "outputs": [
    {
     "name": "stdout",
     "output_type": "stream",
     "text": [
      "+------------------------------+--------------------------+\n",
      "|            actual            |       replacement        |\n",
      "+------------------------------+--------------------------+\n",
      "|         nutri system         |       nutrisystem        |\n",
      "|         soda stream          |        sodastream        |\n",
      "|        playstation's         |            ps            |\n",
      "|         playstations         |            ps            |\n",
      "|         playstation          |            ps            |\n",
      "|            (ps 2)            |           ps2            |\n",
      "|            (ps 3)            |           ps3            |\n",
      "|            (ps 4)            |           ps4            |\n",
      "|             ps 2             |           ps2            |\n",
      "|             ps 3             |           ps3            |\n",
      "|             ps 4             |           ps4            |\n",
      "|         coffeemaker          |       coffee maker       |\n",
      "|            k-cups            |          k cup           |\n",
      "|            k-cup             |          k cup           |\n",
      "|           4-ounce            |         4 ounce          |\n",
      "|           8-ounce            |         8 ounce          |\n",
      "|           12-ounce           |         12 ounce         |\n",
      "|            ounce             |            oz            |\n",
      "|         button-down          |       button down        |\n",
      "|          doctor who          |          dr who          |\n",
      "|           2-drawer           |         2 drawer         |\n",
      "|           3-drawer           |         3 drawer         |\n",
      "|          in-drawer           |        in drawer         |\n",
      "|           hardisk            |        hard drive        |\n",
      "|          hard disk           |        hard drive        |\n",
      "|       harley-davidson        |     harley davidson      |\n",
      "|        harleydavidson        |     harley davidson      |\n",
      "|           e-reader           |         ereader          |\n",
      "|         levi strauss         |           levi           |\n",
      "|            levis             |           levi           |\n",
      "|           mac book           |         macbook          |\n",
      "|          micro-usb           |        micro usb         |\n",
      "| screen protector for samsung | screen protector samsung |\n",
      "|         video games          |        videogames        |\n",
      "|           game pad           |         gamepad          |\n",
      "|       western digital        |            wd            |\n",
      "|       eau de toilette        |         perfume          |\n",
      "+------------------------------+--------------------------+\n"
     ]
    }
   ],
   "source": [
    "x = PrettyTable()\n",
    "x.field_names=['actual','replacement']\n",
    "for key,value in replace_dict.items():\n",
    "    x.add_row([key,value])\n",
    "print(x)"
   ]
  },
  {
   "cell_type": "code",
   "execution_count": 4,
   "metadata": {
    "scrolled": true
   },
   "outputs": [
    {
     "name": "stdout",
     "output_type": "stream",
     "text": [
      "<class 'pandas.core.frame.DataFrame'>\n",
      "RangeIndex: 51 entries, 0 to 50\n",
      "Data columns (total 2 columns):\n",
      " #   Column  Non-Null Count  Dtype \n",
      "---  ------  --------------  ----- \n",
      " 0   act     51 non-null     object\n",
      " 1   exp     51 non-null     object\n",
      "dtypes: object(2)\n",
      "memory usage: 944.0+ bytes\n"
     ]
    }
   ],
   "source": [
    "synonmys.info()"
   ]
  },
  {
   "cell_type": "code",
   "execution_count": 5,
   "metadata": {
    "scrolled": true
   },
   "outputs": [
    {
     "data": {
      "text/html": [
       "<div>\n",
       "<style scoped>\n",
       "    .dataframe tbody tr th:only-of-type {\n",
       "        vertical-align: middle;\n",
       "    }\n",
       "\n",
       "    .dataframe tbody tr th {\n",
       "        vertical-align: top;\n",
       "    }\n",
       "\n",
       "    .dataframe thead th {\n",
       "        text-align: right;\n",
       "    }\n",
       "</style>\n",
       "<table border=\"1\" class=\"dataframe\">\n",
       "  <thead>\n",
       "    <tr style=\"text-align: right;\">\n",
       "      <th></th>\n",
       "      <th>id</th>\n",
       "      <th>query</th>\n",
       "      <th>product_title</th>\n",
       "      <th>product_description</th>\n",
       "      <th>median_relevance</th>\n",
       "      <th>relevance_variance</th>\n",
       "    </tr>\n",
       "  </thead>\n",
       "  <tbody>\n",
       "    <tr>\n",
       "      <th>0</th>\n",
       "      <td>1</td>\n",
       "      <td>bridal shower decorations</td>\n",
       "      <td>Accent Pillow with Heart Design - Red/Black</td>\n",
       "      <td>Red satin accent pillow embroidered with a hea...</td>\n",
       "      <td>1</td>\n",
       "      <td>0.000</td>\n",
       "    </tr>\n",
       "    <tr>\n",
       "      <th>1</th>\n",
       "      <td>2</td>\n",
       "      <td>led christmas lights</td>\n",
       "      <td>Set of 10 Battery Operated Multi LED Train Chr...</td>\n",
       "      <td>Set of 10 Battery Operated Train Christmas Lig...</td>\n",
       "      <td>4</td>\n",
       "      <td>0.000</td>\n",
       "    </tr>\n",
       "    <tr>\n",
       "      <th>2</th>\n",
       "      <td>4</td>\n",
       "      <td>projector</td>\n",
       "      <td>ViewSonic Pro8200 DLP Multimedia Projector</td>\n",
       "      <td>NaN</td>\n",
       "      <td>4</td>\n",
       "      <td>0.471</td>\n",
       "    </tr>\n",
       "    <tr>\n",
       "      <th>3</th>\n",
       "      <td>5</td>\n",
       "      <td>wine rack</td>\n",
       "      <td>Concept Housewares WR-44526 Solid-Wood Ceiling...</td>\n",
       "      <td>Like a silent and sturdy tree, the Southern En...</td>\n",
       "      <td>4</td>\n",
       "      <td>0.000</td>\n",
       "    </tr>\n",
       "    <tr>\n",
       "      <th>4</th>\n",
       "      <td>7</td>\n",
       "      <td>light bulb</td>\n",
       "      <td>Wintergreen Lighting Christmas LED Light Bulb ...</td>\n",
       "      <td>WTGR1011\\nFeatures\\nNickel base, 60,000 averag...</td>\n",
       "      <td>2</td>\n",
       "      <td>0.471</td>\n",
       "    </tr>\n",
       "  </tbody>\n",
       "</table>\n",
       "</div>"
      ],
      "text/plain": [
       "   id                      query  \\\n",
       "0   1  bridal shower decorations   \n",
       "1   2       led christmas lights   \n",
       "2   4                  projector   \n",
       "3   5                  wine rack   \n",
       "4   7                 light bulb   \n",
       "\n",
       "                                       product_title  \\\n",
       "0        Accent Pillow with Heart Design - Red/Black   \n",
       "1  Set of 10 Battery Operated Multi LED Train Chr...   \n",
       "2         ViewSonic Pro8200 DLP Multimedia Projector   \n",
       "3  Concept Housewares WR-44526 Solid-Wood Ceiling...   \n",
       "4  Wintergreen Lighting Christmas LED Light Bulb ...   \n",
       "\n",
       "                                 product_description  median_relevance  \\\n",
       "0  Red satin accent pillow embroidered with a hea...                 1   \n",
       "1  Set of 10 Battery Operated Train Christmas Lig...                 4   \n",
       "2                                                NaN                 4   \n",
       "3  Like a silent and sturdy tree, the Southern En...                 4   \n",
       "4  WTGR1011\\nFeatures\\nNickel base, 60,000 averag...                 2   \n",
       "\n",
       "   relevance_variance  \n",
       "0               0.000  \n",
       "1               0.000  \n",
       "2               0.471  \n",
       "3               0.000  \n",
       "4               0.471  "
      ]
     },
     "execution_count": 5,
     "metadata": {},
     "output_type": "execute_result"
    }
   ],
   "source": [
    "df.head()"
   ]
  },
  {
   "cell_type": "code",
   "execution_count": 6,
   "metadata": {},
   "outputs": [],
   "source": [
    "df.product_description.fillna('',inplace=True)"
   ]
  },
  {
   "cell_type": "code",
   "execution_count": 7,
   "metadata": {},
   "outputs": [
    {
     "data": {
      "text/html": [
       "<div>\n",
       "<style scoped>\n",
       "    .dataframe tbody tr th:only-of-type {\n",
       "        vertical-align: middle;\n",
       "    }\n",
       "\n",
       "    .dataframe tbody tr th {\n",
       "        vertical-align: top;\n",
       "    }\n",
       "\n",
       "    .dataframe thead th {\n",
       "        text-align: right;\n",
       "    }\n",
       "</style>\n",
       "<table border=\"1\" class=\"dataframe\">\n",
       "  <thead>\n",
       "    <tr style=\"text-align: right;\">\n",
       "      <th></th>\n",
       "      <th>id</th>\n",
       "      <th>query</th>\n",
       "      <th>product_title</th>\n",
       "      <th>product_description</th>\n",
       "      <th>median_relevance</th>\n",
       "      <th>relevance_variance</th>\n",
       "    </tr>\n",
       "  </thead>\n",
       "  <tbody>\n",
       "    <tr>\n",
       "      <th>0</th>\n",
       "      <td>1</td>\n",
       "      <td>bridal shower decorations</td>\n",
       "      <td>Accent Pillow with Heart Design - Red/Black</td>\n",
       "      <td>Red satin accent pillow embroidered with a hea...</td>\n",
       "      <td>1</td>\n",
       "      <td>0.0</td>\n",
       "    </tr>\n",
       "    <tr>\n",
       "      <th>1</th>\n",
       "      <td>2</td>\n",
       "      <td>led christmas lights</td>\n",
       "      <td>Set of 10 Battery Operated Multi LED Train Chr...</td>\n",
       "      <td>Set of 10 Battery Operated Train Christmas Lig...</td>\n",
       "      <td>4</td>\n",
       "      <td>0.0</td>\n",
       "    </tr>\n",
       "  </tbody>\n",
       "</table>\n",
       "</div>"
      ],
      "text/plain": [
       "   id                      query  \\\n",
       "0   1  bridal shower decorations   \n",
       "1   2       led christmas lights   \n",
       "\n",
       "                                       product_title  \\\n",
       "0        Accent Pillow with Heart Design - Red/Black   \n",
       "1  Set of 10 Battery Operated Multi LED Train Chr...   \n",
       "\n",
       "                                 product_description  median_relevance  \\\n",
       "0  Red satin accent pillow embroidered with a hea...                 1   \n",
       "1  Set of 10 Battery Operated Train Christmas Lig...                 4   \n",
       "\n",
       "   relevance_variance  \n",
       "0                 0.0  \n",
       "1                 0.0  "
      ]
     },
     "execution_count": 7,
     "metadata": {},
     "output_type": "execute_result"
    }
   ],
   "source": [
    "df.head(2)"
   ]
  },
  {
   "cell_type": "code",
   "execution_count": 8,
   "metadata": {},
   "outputs": [
    {
     "data": {
      "text/html": [
       "<div>\n",
       "<style scoped>\n",
       "    .dataframe tbody tr th:only-of-type {\n",
       "        vertical-align: middle;\n",
       "    }\n",
       "\n",
       "    .dataframe tbody tr th {\n",
       "        vertical-align: top;\n",
       "    }\n",
       "\n",
       "    .dataframe thead th {\n",
       "        text-align: right;\n",
       "    }\n",
       "</style>\n",
       "<table border=\"1\" class=\"dataframe\">\n",
       "  <thead>\n",
       "    <tr style=\"text-align: right;\">\n",
       "      <th></th>\n",
       "      <th>act</th>\n",
       "      <th>exp</th>\n",
       "    </tr>\n",
       "  </thead>\n",
       "  <tbody>\n",
       "    <tr>\n",
       "      <th>0</th>\n",
       "      <td>girls</td>\n",
       "      <td>girl</td>\n",
       "    </tr>\n",
       "    <tr>\n",
       "      <th>1</th>\n",
       "      <td>girl's</td>\n",
       "      <td>girl</td>\n",
       "    </tr>\n",
       "  </tbody>\n",
       "</table>\n",
       "</div>"
      ],
      "text/plain": [
       "      act   exp\n",
       "0   girls  girl\n",
       "1  girl's  girl"
      ]
     },
     "execution_count": 8,
     "metadata": {},
     "output_type": "execute_result"
    }
   ],
   "source": [
    "synonmys.head(2)"
   ]
  },
  {
   "cell_type": "code",
   "execution_count": 9,
   "metadata": {},
   "outputs": [],
   "source": [
    "a = synonmys['act'].astype(str)"
   ]
  },
  {
   "cell_type": "code",
   "execution_count": 10,
   "metadata": {},
   "outputs": [],
   "source": [
    "b = synonmys['exp'].astype(str)"
   ]
  },
  {
   "cell_type": "code",
   "execution_count": 11,
   "metadata": {},
   "outputs": [],
   "source": [
    "changeto = []\n",
    "for i in b:\n",
    "    changeto.append(i)"
   ]
  },
  {
   "cell_type": "code",
   "execution_count": 12,
   "metadata": {},
   "outputs": [],
   "source": [
    "actual = []\n",
    "for i in a:\n",
    "    actual.append(i)"
   ]
  },
  {
   "cell_type": "markdown",
   "metadata": {},
   "source": [
    "## Remove HTML tags from the product description column"
   ]
  },
  {
   "cell_type": "code",
   "execution_count": 13,
   "metadata": {},
   "outputs": [],
   "source": [
    "def cleanHTML(phrase):\n",
    "    soup = BeautifulSoup(phrase,'lxml')\n",
    "    text = soup.get_text()\n",
    "    return text"
   ]
  },
  {
   "cell_type": "code",
   "execution_count": 14,
   "metadata": {},
   "outputs": [],
   "source": [
    "def word_replacement(text):\n",
    "    \n",
    "    for act,exp in zip(actual,changeto):\n",
    "        text = re.sub(act,exp,text)\n",
    "    for key,value in replace_dict.items():\n",
    "        text = re.sub(str(key),str(value),text)\n",
    "        \n",
    "    return text\n",
    "    "
   ]
  },
  {
   "cell_type": "code",
   "execution_count": 15,
   "metadata": {},
   "outputs": [],
   "source": [
    "def decontraction(phrase):\n",
    "        # Decontraction\n",
    "    \n",
    "    # specific\n",
    "    phrase = phrase.lower()\n",
    "    \n",
    "    phrase = re.sub(r\"won't\", \"will not\", phrase)\n",
    "    phrase = re.sub(r\"can\\'t\", \"can not\", phrase)\n",
    "\n",
    "    # general\n",
    "    phrase = re.sub(r\"\\’t|\\'t\", \" not\", phrase)\n",
    "    phrase = re.sub(r\"\\’re|'re\", \" are\", phrase)\n",
    "    phrase = re.sub(r\"’s|\\'s\", \" is\", phrase)\n",
    "    phrase = re.sub(r\"’d|\\'d\", \" would\", phrase)\n",
    "    phrase = re.sub(r\"’ll|\\'ll\", \" will\", phrase)\n",
    "    phrase = re.sub(r\"’ve|\\'ve\", \" have\", phrase)\n",
    "    phrase = re.sub(r\"’m|\\'m\", \" am\", phrase)\n",
    "    \n",
    "    return phrase"
   ]
  },
  {
   "cell_type": "code",
   "execution_count": 16,
   "metadata": {},
   "outputs": [],
   "source": [
    "stop_words = stopwords.words('english')\n",
    "stop_words.remove('not')\n",
    "stop_words.remove('no')"
   ]
  },
  {
   "cell_type": "code",
   "execution_count": 17,
   "metadata": {},
   "outputs": [],
   "source": [
    "token_pattern = r\"\\b\\w\\w+\\b\"\n",
    "p = PorterStemmer()\n",
    "def stemming(text):\n",
    "    token = re.compile(token_pattern, flags = re.UNICODE)\n",
    "    tokens = [x.lower() for x in token.findall(text)]\n",
    "    out = []\n",
    "    for token in tokens:\n",
    "        out.append(p.stem(token))\n",
    "    \n",
    "    out = ' '.join([word for word in out])\n",
    "    return out"
   ]
  },
  {
   "cell_type": "code",
   "execution_count": 136,
   "metadata": {},
   "outputs": [
    {
     "data": {
      "text/plain": [
       "'batteri'"
      ]
     },
     "execution_count": 136,
     "metadata": {},
     "output_type": "execute_result"
    }
   ],
   "source": [
    "stemming('batteries')"
   ]
  },
  {
   "cell_type": "code",
   "execution_count": 18,
   "metadata": {},
   "outputs": [],
   "source": [
    "# https://stackoverflow.com/a/47091490/4084039\n",
    "\n",
    "def text_preprocess(phrase,remove_html = True, decontract = True,stem=False):\n",
    "    \n",
    "    #Removing URL from sentences\n",
    "    phrase = re.sub(r'http/S+','',phrase)\n",
    "#     print('After removing URL',phrase)\n",
    "    \n",
    "    if remove_html:\n",
    "        phrase = cleanHTML(phrase)\n",
    "#         print('Cleaned HTML',phrase)\n",
    "    \n",
    "    # The below step will take more time\n",
    "    phrase = word_replacement(phrase)\n",
    "#     print('word replaced',phrase)\n",
    "\n",
    "    if stem:\n",
    "        phrase = stemming(phrase)\n",
    "#         print('stemming',phrase)\n",
    "    if decontract:\n",
    "        phrase = decontraction(phrase)\n",
    "#         print('decontraction',phrase)\n",
    "    \n",
    "    #Remove everything except alphabets, numbers,spaces\n",
    "    phrase = re.sub(r'[^0-9a-zA-Z ]+',' ',phrase)\n",
    "#     print('remove alpha num',phrase)\n",
    "    \n",
    "#     # Removing words which has numbers in them    \n",
    "#     phrase = re.sub(r'[a-zA-z]+\\d\\S*', \" \", phrase)\n",
    "#     print('remove words with numbers',phrase)\n",
    "    \n",
    "    # Removing all new line characters and double or more spaces together\n",
    "    phrase = re.sub(r\"\\n\", \" \", phrase)    \n",
    "#     print('remove new line',phrase)\n",
    "    phrase = re.sub(' +', \" \", phrase)\n",
    "#     print('remove extra space',phrase)\n",
    "    \n",
    "    # Removing stop words and words which have length>1\n",
    "    words = phrase.split()\n",
    "    output = []\n",
    "    for word in words:\n",
    "        if word not in stop_words and len(word)>1:\n",
    "            output.append(word)\n",
    "#     print('Output array',output)\n",
    "    output = ' '.join(word for word in output)\n",
    "    \n",
    "    return output"
   ]
  },
  {
   "cell_type": "code",
   "execution_count": 98,
   "metadata": {},
   "outputs": [
    {
     "name": "stdout",
     "output_type": "stream",
     "text": [
      "Time take to run this cell is 0:00:04.521481\n"
     ]
    }
   ],
   "source": [
    "start = datetime.now()\n",
    "df['cleaned_query1'] = df['query'].str.lower()\n",
    "df['cleaned_query1'] = df.apply(lambda x : text_preprocess(x['cleaned_query1'],stem=True),axis = 1)\n",
    "end = datetime.now()\n",
    "print('Time take to run this cell is',end-start)"
   ]
  },
  {
   "cell_type": "code",
   "execution_count": 20,
   "metadata": {},
   "outputs": [
    {
     "name": "stdout",
     "output_type": "stream",
     "text": [
      "Time take to run this cell is 0:00:00.092535\n"
     ]
    }
   ],
   "source": [
    "# Replacing space with underscore to make it a single word.\n",
    "start = datetime.now()\n",
    "df['cleaned_query'] = df.apply(lambda x : x['query'].replace(' ','_'),axis = 1)\n",
    "end = datetime.now()\n",
    "print('Time take to run this cell is',end-start)"
   ]
  },
  {
   "cell_type": "code",
   "execution_count": 21,
   "metadata": {},
   "outputs": [
    {
     "name": "stdout",
     "output_type": "stream",
     "text": [
      "Time take to run this cell is 0:00:04.478391\n"
     ]
    }
   ],
   "source": [
    "start = datetime.now()\n",
    "df['cleaned_product_title'] = df.apply(lambda x : text_preprocess(x['product_title']),axis = 1)\n",
    "end = datetime.now()\n",
    "print('Time take to run this cell is',end-start)"
   ]
  },
  {
   "cell_type": "code",
   "execution_count": 22,
   "metadata": {},
   "outputs": [
    {
     "name": "stderr",
     "output_type": "stream",
     "text": [
      "C:\\ProgramData\\Anaconda3\\lib\\site-packages\\bs4\\__init__.py:424: MarkupResemblesLocatorWarning: \"http://i104.photobucket.com/albums/m175/champions_on_display/wincraft2013/januaryb/65497012.jpg\" looks like a URL. Beautiful Soup is not an HTTP client. You should probably use an HTTP client like requests to get the document behind the URL, and feed that document to Beautiful Soup.\n",
      "  MarkupResemblesLocatorWarning\n",
      "C:\\ProgramData\\Anaconda3\\lib\\site-packages\\bs4\\__init__.py:424: MarkupResemblesLocatorWarning: \"http://i104.photobucket.com/albums/m175/champions_on_display/wincraft2013/januaryb/65516012.jpg\" looks like a URL. Beautiful Soup is not an HTTP client. You should probably use an HTTP client like requests to get the document behind the URL, and feed that document to Beautiful Soup.\n",
      "  MarkupResemblesLocatorWarning\n"
     ]
    },
    {
     "name": "stdout",
     "output_type": "stream",
     "text": [
      "Time take to run this cell is 0:00:05.491938\n"
     ]
    },
    {
     "name": "stderr",
     "output_type": "stream",
     "text": [
      "C:\\ProgramData\\Anaconda3\\lib\\site-packages\\bs4\\__init__.py:424: MarkupResemblesLocatorWarning: \"http://i104.photobucket.com/albums/m175/champions_on_display/wincraft2013/januaryb/6552101\" looks like a URL. Beautiful Soup is not an HTTP client. You should probably use an HTTP client like requests to get the document behind the URL, and feed that document to Beautiful Soup.\n",
      "  MarkupResemblesLocatorWarning\n"
     ]
    }
   ],
   "source": [
    "start = datetime.now()\n",
    "df['cleaned_product_description'] = df.apply(lambda x : text_preprocess(x['product_description']),axis = 1)\n",
    "end = datetime.now()\n",
    "print('Time take to run this cell is',end-start)"
   ]
  },
  {
   "cell_type": "code",
   "execution_count": 23,
   "metadata": {},
   "outputs": [],
   "source": [
    "## With stemming for "
   ]
  },
  {
   "cell_type": "code",
   "execution_count": 24,
   "metadata": {},
   "outputs": [
    {
     "name": "stdout",
     "output_type": "stream",
     "text": [
      "Time take to run this cell is 0:00:05.851493\n"
     ]
    }
   ],
   "source": [
    "start = datetime.now()\n",
    "df['ste_cleaned_product_title'] = df.apply(lambda x : text_preprocess(x['product_title'],stem=True),axis = 1)\n",
    "end = datetime.now()\n",
    "print('Time take to run this cell is',end-start)"
   ]
  },
  {
   "cell_type": "code",
   "execution_count": 25,
   "metadata": {},
   "outputs": [
    {
     "name": "stdout",
     "output_type": "stream",
     "text": [
      "Time take to run this cell is 0:00:17.097202\n"
     ]
    }
   ],
   "source": [
    "start = datetime.now()\n",
    "df['ste_cleaned_product_description'] = df.apply(lambda x : text_preprocess(x['product_description'],stem=True),axis = 1)\n",
    "end = datetime.now()\n",
    "print('Time take to run this cell is',end-start)"
   ]
  },
  {
   "cell_type": "code",
   "execution_count": 26,
   "metadata": {},
   "outputs": [],
   "source": [
    "df['product_description_len'] = df.ste_cleaned_product_title.str.len()"
   ]
  },
  {
   "cell_type": "code",
   "execution_count": 27,
   "metadata": {},
   "outputs": [],
   "source": [
    "df['product_title_len'] = df.ste_cleaned_product_description.str.len()"
   ]
  },
  {
   "cell_type": "code",
   "execution_count": 28,
   "metadata": {
    "scrolled": true
   },
   "outputs": [
    {
     "data": {
      "text/html": [
       "<div>\n",
       "<style scoped>\n",
       "    .dataframe tbody tr th:only-of-type {\n",
       "        vertical-align: middle;\n",
       "    }\n",
       "\n",
       "    .dataframe tbody tr th {\n",
       "        vertical-align: top;\n",
       "    }\n",
       "\n",
       "    .dataframe thead th {\n",
       "        text-align: right;\n",
       "    }\n",
       "</style>\n",
       "<table border=\"1\" class=\"dataframe\">\n",
       "  <thead>\n",
       "    <tr style=\"text-align: right;\">\n",
       "      <th></th>\n",
       "      <th>id</th>\n",
       "      <th>query</th>\n",
       "      <th>product_title</th>\n",
       "      <th>product_description</th>\n",
       "      <th>median_relevance</th>\n",
       "      <th>relevance_variance</th>\n",
       "      <th>cleaned_query1</th>\n",
       "      <th>cleaned_query</th>\n",
       "      <th>cleaned_product_title</th>\n",
       "      <th>cleaned_product_description</th>\n",
       "      <th>ste_cleaned_product_title</th>\n",
       "      <th>ste_cleaned_product_description</th>\n",
       "      <th>product_description_len</th>\n",
       "      <th>product_title_len</th>\n",
       "    </tr>\n",
       "  </thead>\n",
       "  <tbody>\n",
       "    <tr>\n",
       "      <th>0</th>\n",
       "      <td>1</td>\n",
       "      <td>bridal shower decorations</td>\n",
       "      <td>Accent Pillow with Heart Design - Red/Black</td>\n",
       "      <td>Red satin accent pillow embroidered with a hea...</td>\n",
       "      <td>1</td>\n",
       "      <td>0.000</td>\n",
       "      <td>bridal shower decor</td>\n",
       "      <td>bridal_shower_decorations</td>\n",
       "      <td>accent pillow heart design red black</td>\n",
       "      <td>red satin accent pillow embroidered heart blac...</td>\n",
       "      <td>accent pillow heart design red black</td>\n",
       "      <td>red satin accent pillow embroid heart black th...</td>\n",
       "      <td>36</td>\n",
       "      <td>50</td>\n",
       "    </tr>\n",
       "    <tr>\n",
       "      <th>1</th>\n",
       "      <td>2</td>\n",
       "      <td>led christmas lights</td>\n",
       "      <td>Set of 10 Battery Operated Multi LED Train Chr...</td>\n",
       "      <td>Set of 10 Battery Operated Train Christmas Lig...</td>\n",
       "      <td>4</td>\n",
       "      <td>0.000</td>\n",
       "      <td>led christma light</td>\n",
       "      <td>led_christmas_lights</td>\n",
       "      <td>set 10 battery operated multi led train christ...</td>\n",
       "      <td>set 10 battery operated train christmas lights...</td>\n",
       "      <td>set 10 batteri oper multi led train christma l...</td>\n",
       "      <td>set 10 batteri oper train christma light item ...</td>\n",
       "      <td>61</td>\n",
       "      <td>643</td>\n",
       "    </tr>\n",
       "    <tr>\n",
       "      <th>2</th>\n",
       "      <td>4</td>\n",
       "      <td>projector</td>\n",
       "      <td>ViewSonic Pro8200 DLP Multimedia Projector</td>\n",
       "      <td></td>\n",
       "      <td>4</td>\n",
       "      <td>0.471</td>\n",
       "      <td>projector</td>\n",
       "      <td>projector</td>\n",
       "      <td>viewsonic pro8200 dlp multimedia projector</td>\n",
       "      <td></td>\n",
       "      <td>viewson pro8200 dlp multimedia projector</td>\n",
       "      <td></td>\n",
       "      <td>40</td>\n",
       "      <td>0</td>\n",
       "    </tr>\n",
       "    <tr>\n",
       "      <th>3</th>\n",
       "      <td>5</td>\n",
       "      <td>wine rack</td>\n",
       "      <td>Concept Housewares WR-44526 Solid-Wood Ceiling...</td>\n",
       "      <td>Like a silent and sturdy tree, the Southern En...</td>\n",
       "      <td>4</td>\n",
       "      <td>0.000</td>\n",
       "      <td>wine rack</td>\n",
       "      <td>wine_rack</td>\n",
       "      <td>concept housewares wr 44526 solid wood ceiling...</td>\n",
       "      <td>like silent sturdy tree southern enterprises b...</td>\n",
       "      <td>concept housewar wr 44526 solid wood ceil wall...</td>\n",
       "      <td>like silent sturdi tree southern enterpris bir...</td>\n",
       "      <td>82</td>\n",
       "      <td>454</td>\n",
       "    </tr>\n",
       "    <tr>\n",
       "      <th>4</th>\n",
       "      <td>7</td>\n",
       "      <td>light bulb</td>\n",
       "      <td>Wintergreen Lighting Christmas LED Light Bulb ...</td>\n",
       "      <td>WTGR1011\\nFeatures\\nNickel base, 60,000 averag...</td>\n",
       "      <td>2</td>\n",
       "      <td>0.471</td>\n",
       "      <td>light bulb</td>\n",
       "      <td>light_bulb</td>\n",
       "      <td>wintergreen lighting christmas led light bulb ...</td>\n",
       "      <td>wtgr1011 features nickel base 60 000 average h...</td>\n",
       "      <td>wintergreen light christma led light bulb pack 25</td>\n",
       "      <td>wtgr1011 featur nickel base 60 000 averag hour...</td>\n",
       "      <td>49</td>\n",
       "      <td>262</td>\n",
       "    </tr>\n",
       "  </tbody>\n",
       "</table>\n",
       "</div>"
      ],
      "text/plain": [
       "   id                      query  \\\n",
       "0   1  bridal shower decorations   \n",
       "1   2       led christmas lights   \n",
       "2   4                  projector   \n",
       "3   5                  wine rack   \n",
       "4   7                 light bulb   \n",
       "\n",
       "                                       product_title  \\\n",
       "0        Accent Pillow with Heart Design - Red/Black   \n",
       "1  Set of 10 Battery Operated Multi LED Train Chr...   \n",
       "2         ViewSonic Pro8200 DLP Multimedia Projector   \n",
       "3  Concept Housewares WR-44526 Solid-Wood Ceiling...   \n",
       "4  Wintergreen Lighting Christmas LED Light Bulb ...   \n",
       "\n",
       "                                 product_description  median_relevance  \\\n",
       "0  Red satin accent pillow embroidered with a hea...                 1   \n",
       "1  Set of 10 Battery Operated Train Christmas Lig...                 4   \n",
       "2                                                                    4   \n",
       "3  Like a silent and sturdy tree, the Southern En...                 4   \n",
       "4  WTGR1011\\nFeatures\\nNickel base, 60,000 averag...                 2   \n",
       "\n",
       "   relevance_variance       cleaned_query1              cleaned_query  \\\n",
       "0               0.000  bridal shower decor  bridal_shower_decorations   \n",
       "1               0.000   led christma light       led_christmas_lights   \n",
       "2               0.471            projector                  projector   \n",
       "3               0.000            wine rack                  wine_rack   \n",
       "4               0.471           light bulb                 light_bulb   \n",
       "\n",
       "                               cleaned_product_title  \\\n",
       "0               accent pillow heart design red black   \n",
       "1  set 10 battery operated multi led train christ...   \n",
       "2         viewsonic pro8200 dlp multimedia projector   \n",
       "3  concept housewares wr 44526 solid wood ceiling...   \n",
       "4  wintergreen lighting christmas led light bulb ...   \n",
       "\n",
       "                         cleaned_product_description  \\\n",
       "0  red satin accent pillow embroidered heart blac...   \n",
       "1  set 10 battery operated train christmas lights...   \n",
       "2                                                      \n",
       "3  like silent sturdy tree southern enterprises b...   \n",
       "4  wtgr1011 features nickel base 60 000 average h...   \n",
       "\n",
       "                           ste_cleaned_product_title  \\\n",
       "0               accent pillow heart design red black   \n",
       "1  set 10 batteri oper multi led train christma l...   \n",
       "2           viewson pro8200 dlp multimedia projector   \n",
       "3  concept housewar wr 44526 solid wood ceil wall...   \n",
       "4  wintergreen light christma led light bulb pack 25   \n",
       "\n",
       "                     ste_cleaned_product_description  product_description_len  \\\n",
       "0  red satin accent pillow embroid heart black th...                       36   \n",
       "1  set 10 batteri oper train christma light item ...                       61   \n",
       "2                                                                          40   \n",
       "3  like silent sturdi tree southern enterpris bir...                       82   \n",
       "4  wtgr1011 featur nickel base 60 000 averag hour...                       49   \n",
       "\n",
       "   product_title_len  \n",
       "0                 50  \n",
       "1                643  \n",
       "2                  0  \n",
       "3                454  \n",
       "4                262  "
      ]
     },
     "execution_count": 28,
     "metadata": {},
     "output_type": "execute_result"
    }
   ],
   "source": [
    "df.head()"
   ]
  },
  {
   "cell_type": "code",
   "execution_count": 29,
   "metadata": {},
   "outputs": [
    {
     "name": "stdout",
     "output_type": "stream",
     "text": [
      "Time take to run this cell is 0:00:04.126861\n"
     ]
    }
   ],
   "source": [
    "start = datetime.now()\n",
    "df['cleaned_query1'] = df['query'].str.lower()\n",
    "df['cleaned_query1'] = df.apply(lambda x : text_preprocess(x['cleaned_query1'],stem=True),axis = 1)\n",
    "end = datetime.now()\n",
    "print('Time take to run this cell is',end-start)"
   ]
  },
  {
   "cell_type": "code",
   "execution_count": 30,
   "metadata": {},
   "outputs": [],
   "source": [
    "df['query_product_title_words_overlap_nopre'] = np.zeros(df.shape[0])\n",
    "for index, query_text in enumerate(df['query']):\n",
    "    count = 0\n",
    "    query_text = query_text.lower().split()\n",
    "    product_title = df.product_title[index].lower() \n",
    "    for word in query_text:\n",
    "        if word not in product_title:\n",
    "            df.loc[index,'query_product_title_words_overlap_nopre'] = 0\n",
    "            break\n",
    "    else:\n",
    "        df.loc[index,'query_product_title_words_overlap_nopre'] = 1\n",
    "    "
   ]
  },
  {
   "cell_type": "code",
   "execution_count": 31,
   "metadata": {},
   "outputs": [],
   "source": [
    "df['query_product_title_words_overlap'] = np.zeros(df.shape[0])\n",
    "for index, query_text in enumerate(df['cleaned_query1']):\n",
    "    count = 0\n",
    "    query_text = query_text.lower().split()\n",
    "    product_title = df.ste_cleaned_product_title[index].lower() \n",
    "    for word in query_text:\n",
    "        if word not in product_title:\n",
    "            df.loc[index,'query_product_title_words_overlap'] = 0\n",
    "            break\n",
    "    else:\n",
    "        df.loc[index,'query_product_title_words_overlap'] = 1\n",
    "    "
   ]
  },
  {
   "cell_type": "code",
   "execution_count": 32,
   "metadata": {
    "scrolled": true
   },
   "outputs": [],
   "source": [
    "with_pre = df.groupby(['query_product_title_words_overlap','median_relevance'])['query_product_title_words_overlap'].describe()\n",
    "\n",
    "\n",
    "\n"
   ]
  },
  {
   "cell_type": "code",
   "execution_count": 33,
   "metadata": {},
   "outputs": [],
   "source": [
    "without_pre = df.groupby(['query_product_title_words_overlap_nopre','median_relevance'])['query_product_title_words_overlap_nopre'].describe()\n",
    "\n",
    "\n",
    "\n"
   ]
  },
  {
   "cell_type": "code",
   "execution_count": 34,
   "metadata": {},
   "outputs": [
    {
     "data": {
      "text/html": [
       "<div>\n",
       "<style scoped>\n",
       "    .dataframe tbody tr th:only-of-type {\n",
       "        vertical-align: middle;\n",
       "    }\n",
       "\n",
       "    .dataframe tbody tr th {\n",
       "        vertical-align: top;\n",
       "    }\n",
       "\n",
       "    .dataframe thead th {\n",
       "        text-align: right;\n",
       "    }\n",
       "</style>\n",
       "<table border=\"1\" class=\"dataframe\">\n",
       "  <thead>\n",
       "    <tr style=\"text-align: right;\">\n",
       "      <th></th>\n",
       "      <th></th>\n",
       "      <th>count</th>\n",
       "      <th>mean</th>\n",
       "      <th>std</th>\n",
       "      <th>min</th>\n",
       "      <th>25%</th>\n",
       "      <th>50%</th>\n",
       "      <th>75%</th>\n",
       "      <th>max</th>\n",
       "    </tr>\n",
       "    <tr>\n",
       "      <th>query_product_title_words_overlap_nopre</th>\n",
       "      <th>median_relevance</th>\n",
       "      <th></th>\n",
       "      <th></th>\n",
       "      <th></th>\n",
       "      <th></th>\n",
       "      <th></th>\n",
       "      <th></th>\n",
       "      <th></th>\n",
       "      <th></th>\n",
       "    </tr>\n",
       "  </thead>\n",
       "  <tbody>\n",
       "    <tr>\n",
       "      <th rowspan=\"4\" valign=\"top\">0.0</th>\n",
       "      <th>1</th>\n",
       "      <td>706.0</td>\n",
       "      <td>0.0</td>\n",
       "      <td>0.0</td>\n",
       "      <td>0.0</td>\n",
       "      <td>0.0</td>\n",
       "      <td>0.0</td>\n",
       "      <td>0.0</td>\n",
       "      <td>0.0</td>\n",
       "    </tr>\n",
       "    <tr>\n",
       "      <th>2</th>\n",
       "      <td>1036.0</td>\n",
       "      <td>0.0</td>\n",
       "      <td>0.0</td>\n",
       "      <td>0.0</td>\n",
       "      <td>0.0</td>\n",
       "      <td>0.0</td>\n",
       "      <td>0.0</td>\n",
       "      <td>0.0</td>\n",
       "    </tr>\n",
       "    <tr>\n",
       "      <th>3</th>\n",
       "      <td>953.0</td>\n",
       "      <td>0.0</td>\n",
       "      <td>0.0</td>\n",
       "      <td>0.0</td>\n",
       "      <td>0.0</td>\n",
       "      <td>0.0</td>\n",
       "      <td>0.0</td>\n",
       "      <td>0.0</td>\n",
       "    </tr>\n",
       "    <tr>\n",
       "      <th>4</th>\n",
       "      <td>2034.0</td>\n",
       "      <td>0.0</td>\n",
       "      <td>0.0</td>\n",
       "      <td>0.0</td>\n",
       "      <td>0.0</td>\n",
       "      <td>0.0</td>\n",
       "      <td>0.0</td>\n",
       "      <td>0.0</td>\n",
       "    </tr>\n",
       "    <tr>\n",
       "      <th rowspan=\"4\" valign=\"top\">1.0</th>\n",
       "      <th>1</th>\n",
       "      <td>68.0</td>\n",
       "      <td>1.0</td>\n",
       "      <td>0.0</td>\n",
       "      <td>1.0</td>\n",
       "      <td>1.0</td>\n",
       "      <td>1.0</td>\n",
       "      <td>1.0</td>\n",
       "      <td>1.0</td>\n",
       "    </tr>\n",
       "    <tr>\n",
       "      <th>2</th>\n",
       "      <td>440.0</td>\n",
       "      <td>1.0</td>\n",
       "      <td>0.0</td>\n",
       "      <td>1.0</td>\n",
       "      <td>1.0</td>\n",
       "      <td>1.0</td>\n",
       "      <td>1.0</td>\n",
       "      <td>1.0</td>\n",
       "    </tr>\n",
       "    <tr>\n",
       "      <th>3</th>\n",
       "      <td>784.0</td>\n",
       "      <td>1.0</td>\n",
       "      <td>0.0</td>\n",
       "      <td>1.0</td>\n",
       "      <td>1.0</td>\n",
       "      <td>1.0</td>\n",
       "      <td>1.0</td>\n",
       "      <td>1.0</td>\n",
       "    </tr>\n",
       "    <tr>\n",
       "      <th>4</th>\n",
       "      <td>4137.0</td>\n",
       "      <td>1.0</td>\n",
       "      <td>0.0</td>\n",
       "      <td>1.0</td>\n",
       "      <td>1.0</td>\n",
       "      <td>1.0</td>\n",
       "      <td>1.0</td>\n",
       "      <td>1.0</td>\n",
       "    </tr>\n",
       "  </tbody>\n",
       "</table>\n",
       "</div>"
      ],
      "text/plain": [
       "                                                           count  mean  std  \\\n",
       "query_product_title_words_overlap_nopre median_relevance                      \n",
       "0.0                                     1                  706.0   0.0  0.0   \n",
       "                                        2                 1036.0   0.0  0.0   \n",
       "                                        3                  953.0   0.0  0.0   \n",
       "                                        4                 2034.0   0.0  0.0   \n",
       "1.0                                     1                   68.0   1.0  0.0   \n",
       "                                        2                  440.0   1.0  0.0   \n",
       "                                        3                  784.0   1.0  0.0   \n",
       "                                        4                 4137.0   1.0  0.0   \n",
       "\n",
       "                                                          min  25%  50%  75%  \\\n",
       "query_product_title_words_overlap_nopre median_relevance                       \n",
       "0.0                                     1                 0.0  0.0  0.0  0.0   \n",
       "                                        2                 0.0  0.0  0.0  0.0   \n",
       "                                        3                 0.0  0.0  0.0  0.0   \n",
       "                                        4                 0.0  0.0  0.0  0.0   \n",
       "1.0                                     1                 1.0  1.0  1.0  1.0   \n",
       "                                        2                 1.0  1.0  1.0  1.0   \n",
       "                                        3                 1.0  1.0  1.0  1.0   \n",
       "                                        4                 1.0  1.0  1.0  1.0   \n",
       "\n",
       "                                                          max  \n",
       "query_product_title_words_overlap_nopre median_relevance       \n",
       "0.0                                     1                 0.0  \n",
       "                                        2                 0.0  \n",
       "                                        3                 0.0  \n",
       "                                        4                 0.0  \n",
       "1.0                                     1                 1.0  \n",
       "                                        2                 1.0  \n",
       "                                        3                 1.0  \n",
       "                                        4                 1.0  "
      ]
     },
     "execution_count": 34,
     "metadata": {},
     "output_type": "execute_result"
    }
   ],
   "source": [
    "without_pre"
   ]
  },
  {
   "cell_type": "code",
   "execution_count": 35,
   "metadata": {},
   "outputs": [
    {
     "name": "stdout",
     "output_type": "stream",
     "text": [
      "Table showing the percentage of points which have 100% match between query and title\n",
      "+------------------+-----------------------+--------------------------+\n",
      "| Median relevancy | with preprocessing(%) | without preprocessing(%) |\n",
      "+------------------+-----------------------+--------------------------+\n",
      "|        1         |          1.0          |           1.0            |\n",
      "|        2         |          5.0          |           4.0            |\n",
      "|        3         |          9.0          |           8.0            |\n",
      "|        4         |          49.0         |           41.0           |\n",
      "+------------------+-----------------------+--------------------------+\n"
     ]
    }
   ],
   "source": [
    "rows = df.shape[0]\n",
    "x = PrettyTable()\n",
    "print('Table showing the percentage of points which have 100% match between query and title')\n",
    "x.field_names = ['Median relevancy',\"with preprocessing(%)\", \"without preprocessing(%)\"]\n",
    "for score in [1,2,3,4]:\n",
    "    x.add_row([score,round(with_pre['count'][1][score]/rows,2)*100,round(without_pre['count'][1][score]/rows,2)*100])\n",
    "\n",
    "print(x)\n",
    "    "
   ]
  },
  {
   "cell_type": "code",
   "execution_count": 101,
   "metadata": {},
   "outputs": [],
   "source": [
    "df = df.drop('query_product_title_words_overlap_nopre',axis = 1)"
   ]
  },
  {
   "cell_type": "code",
   "execution_count": 102,
   "metadata": {
    "scrolled": true
   },
   "outputs": [
    {
     "data": {
      "text/html": [
       "<div>\n",
       "<style scoped>\n",
       "    .dataframe tbody tr th:only-of-type {\n",
       "        vertical-align: middle;\n",
       "    }\n",
       "\n",
       "    .dataframe tbody tr th {\n",
       "        vertical-align: top;\n",
       "    }\n",
       "\n",
       "    .dataframe thead th {\n",
       "        text-align: right;\n",
       "    }\n",
       "</style>\n",
       "<table border=\"1\" class=\"dataframe\">\n",
       "  <thead>\n",
       "    <tr style=\"text-align: right;\">\n",
       "      <th></th>\n",
       "      <th>id</th>\n",
       "      <th>query</th>\n",
       "      <th>product_title</th>\n",
       "      <th>product_description</th>\n",
       "      <th>median_relevance</th>\n",
       "      <th>relevance_variance</th>\n",
       "      <th>cleaned_query1</th>\n",
       "      <th>cleaned_query</th>\n",
       "      <th>cleaned_product_title</th>\n",
       "      <th>cleaned_product_description</th>\n",
       "      <th>ste_cleaned_product_title</th>\n",
       "      <th>ste_cleaned_product_description</th>\n",
       "      <th>product_description_len</th>\n",
       "      <th>product_title_len</th>\n",
       "      <th>query_product_title_words_overlap</th>\n",
       "    </tr>\n",
       "  </thead>\n",
       "  <tbody>\n",
       "    <tr>\n",
       "      <th>0</th>\n",
       "      <td>1</td>\n",
       "      <td>bridal shower decorations</td>\n",
       "      <td>Accent Pillow with Heart Design - Red/Black</td>\n",
       "      <td>Red satin accent pillow embroidered with a hea...</td>\n",
       "      <td>1</td>\n",
       "      <td>0.0</td>\n",
       "      <td>bridal shower decor</td>\n",
       "      <td>bridal_shower_decorations</td>\n",
       "      <td>accent pillow heart design red black</td>\n",
       "      <td>red satin accent pillow embroidered heart blac...</td>\n",
       "      <td>accent pillow heart design red black</td>\n",
       "      <td>red satin accent pillow embroid heart black th...</td>\n",
       "      <td>36</td>\n",
       "      <td>50</td>\n",
       "      <td>0.0</td>\n",
       "    </tr>\n",
       "    <tr>\n",
       "      <th>1</th>\n",
       "      <td>2</td>\n",
       "      <td>led christmas lights</td>\n",
       "      <td>Set of 10 Battery Operated Multi LED Train Chr...</td>\n",
       "      <td>Set of 10 Battery Operated Train Christmas Lig...</td>\n",
       "      <td>4</td>\n",
       "      <td>0.0</td>\n",
       "      <td>led christma light</td>\n",
       "      <td>led_christmas_lights</td>\n",
       "      <td>set 10 battery operated multi led train christ...</td>\n",
       "      <td>set 10 battery operated train christmas lights...</td>\n",
       "      <td>set 10 batteri oper multi led train christma l...</td>\n",
       "      <td>set 10 batteri oper train christma light item ...</td>\n",
       "      <td>61</td>\n",
       "      <td>643</td>\n",
       "      <td>1.0</td>\n",
       "    </tr>\n",
       "  </tbody>\n",
       "</table>\n",
       "</div>"
      ],
      "text/plain": [
       "   id                      query  \\\n",
       "0   1  bridal shower decorations   \n",
       "1   2       led christmas lights   \n",
       "\n",
       "                                       product_title  \\\n",
       "0        Accent Pillow with Heart Design - Red/Black   \n",
       "1  Set of 10 Battery Operated Multi LED Train Chr...   \n",
       "\n",
       "                                 product_description  median_relevance  \\\n",
       "0  Red satin accent pillow embroidered with a hea...                 1   \n",
       "1  Set of 10 Battery Operated Train Christmas Lig...                 4   \n",
       "\n",
       "   relevance_variance       cleaned_query1              cleaned_query  \\\n",
       "0                 0.0  bridal shower decor  bridal_shower_decorations   \n",
       "1                 0.0   led christma light       led_christmas_lights   \n",
       "\n",
       "                               cleaned_product_title  \\\n",
       "0               accent pillow heart design red black   \n",
       "1  set 10 battery operated multi led train christ...   \n",
       "\n",
       "                         cleaned_product_description  \\\n",
       "0  red satin accent pillow embroidered heart blac...   \n",
       "1  set 10 battery operated train christmas lights...   \n",
       "\n",
       "                           ste_cleaned_product_title  \\\n",
       "0               accent pillow heart design red black   \n",
       "1  set 10 batteri oper multi led train christma l...   \n",
       "\n",
       "                     ste_cleaned_product_description  product_description_len  \\\n",
       "0  red satin accent pillow embroid heart black th...                       36   \n",
       "1  set 10 batteri oper train christma light item ...                       61   \n",
       "\n",
       "   product_title_len  query_product_title_words_overlap  \n",
       "0                 50                                0.0  \n",
       "1                643                                1.0  "
      ]
     },
     "execution_count": 102,
     "metadata": {},
     "output_type": "execute_result"
    }
   ],
   "source": [
    "df.head(2)"
   ]
  },
  {
   "cell_type": "code",
   "execution_count": 106,
   "metadata": {},
   "outputs": [
    {
     "data": {
      "text/plain": [
       "(10158, 15)"
      ]
     },
     "execution_count": 106,
     "metadata": {},
     "output_type": "execute_result"
    }
   ],
   "source": [
    "df.shape"
   ]
  },
  {
   "cell_type": "code",
   "execution_count": 105,
   "metadata": {},
   "outputs": [],
   "source": [
    "pickle.dump(df,open('data/main_df.pkl','wb'))"
   ]
  },
  {
   "cell_type": "code",
   "execution_count": null,
   "metadata": {},
   "outputs": [],
   "source": []
  },
  {
   "cell_type": "markdown",
   "metadata": {},
   "source": [
    "## Train - CV - test split"
   ]
  },
  {
   "cell_type": "code",
   "execution_count": 36,
   "metadata": {},
   "outputs": [
    {
     "data": {
      "text/plain": [
       "(10158, 16)"
      ]
     },
     "execution_count": 36,
     "metadata": {},
     "output_type": "execute_result"
    }
   ],
   "source": [
    "df.shape"
   ]
  },
  {
   "cell_type": "code",
   "execution_count": 37,
   "metadata": {},
   "outputs": [],
   "source": [
    "df_train,df_test = train_test_split( df, test_size=0.15, random_state=42)\n",
    "df_train,df_cv = train_test_split( df_train, test_size=0.15, random_state=42)"
   ]
  },
  {
   "cell_type": "code",
   "execution_count": 38,
   "metadata": {},
   "outputs": [
    {
     "data": {
      "text/plain": [
       "(7338, 16)"
      ]
     },
     "execution_count": 38,
     "metadata": {},
     "output_type": "execute_result"
    }
   ],
   "source": [
    "df_train.shape"
   ]
  },
  {
   "cell_type": "code",
   "execution_count": 39,
   "metadata": {},
   "outputs": [
    {
     "data": {
      "text/plain": [
       "((1296, 16), (1524, 16))"
      ]
     },
     "execution_count": 39,
     "metadata": {},
     "output_type": "execute_result"
    }
   ],
   "source": [
    "df_cv.shape, df_test.shape"
   ]
  },
  {
   "cell_type": "code",
   "execution_count": 40,
   "metadata": {},
   "outputs": [],
   "source": [
    "pickle.dump((df_train, df_cv, df_test),open('data/dataframes.pkl','wb'))"
   ]
  },
  {
   "cell_type": "code",
   "execution_count": 41,
   "metadata": {},
   "outputs": [],
   "source": [
    "df_train, df_cv, df_test = pickle.load(open('data/dataframes.pkl','rb'))"
   ]
  },
  {
   "cell_type": "markdown",
   "metadata": {},
   "source": [
    "## Vectorizing Query data"
   ]
  },
  {
   "cell_type": "code",
   "execution_count": 42,
   "metadata": {
    "scrolled": true
   },
   "outputs": [
    {
     "data": {
      "text/plain": [
       "wireless_mouse         81\n",
       "memory_foam_pillow     78\n",
       "rachel_ray_cookware    61\n",
       "bike_lock              58\n",
       "16_gb_memory_card      52\n",
       "                       ..\n",
       "8_ounce_mason_jars      9\n",
       "fifa_15                 8\n",
       "donut_shoppe_k_cups     7\n",
       "polo_bear_sweater       6\n",
       "dollhouse_bathtub       6\n",
       "Name: cleaned_query, Length: 261, dtype: int64"
      ]
     },
     "execution_count": 42,
     "metadata": {},
     "output_type": "execute_result"
    }
   ],
   "source": [
    "df_train['cleaned_query'].value_counts()"
   ]
  },
  {
   "cell_type": "code",
   "execution_count": 43,
   "metadata": {},
   "outputs": [
    {
     "data": {
      "text/plain": [
       "CountVectorizer()"
      ]
     },
     "execution_count": 43,
     "metadata": {},
     "output_type": "execute_result"
    }
   ],
   "source": [
    "vectorizer = CountVectorizer()\n",
    "vectorizer.fit(df_train['cleaned_query'])\n",
    "query_train = vectorizer.fit_transform(df_train['cleaned_query'])\n",
    "query_cv = vectorizer.transform(df_cv['cleaned_query'])\n",
    "query_test = vectorizer.transform(df_test['cleaned_query'])"
   ]
  },
  {
   "cell_type": "code",
   "execution_count": 44,
   "metadata": {},
   "outputs": [],
   "source": [
    "query_train = vectorizer.fit_transform(df_train['cleaned_query'])\n",
    "query_cv = vectorizer.transform(df_cv['cleaned_query'])\n",
    "query_test = vectorizer.transform(df_test['cleaned_query'])\n"
   ]
  },
  {
   "cell_type": "code",
   "execution_count": 45,
   "metadata": {},
   "outputs": [
    {
     "data": {
      "text/plain": [
       "((7338, 261), (1296, 261))"
      ]
     },
     "execution_count": 45,
     "metadata": {},
     "output_type": "execute_result"
    }
   ],
   "source": [
    "query_train.shape,query_cv.shape"
   ]
  },
  {
   "cell_type": "code",
   "execution_count": 46,
   "metadata": {},
   "outputs": [],
   "source": [
    "pickle.dump((query_train, query_cv, query_test),open('data/query_ohe.pkl','wb'))"
   ]
  },
  {
   "cell_type": "code",
   "execution_count": 47,
   "metadata": {},
   "outputs": [],
   "source": [
    "# query_train, query_cv, query_test = pickle.load(open('data/query_ohe.pkl','rb'))"
   ]
  },
  {
   "cell_type": "markdown",
   "metadata": {},
   "source": [
    "### TODO -- <font color ='red'> Try Response coding of categorical features"
   ]
  },
  {
   "cell_type": "code",
   "execution_count": null,
   "metadata": {},
   "outputs": [],
   "source": []
  },
  {
   "cell_type": "markdown",
   "metadata": {},
   "source": [
    "## Vectorizing the product title with TFIDF vectorizer\n"
   ]
  },
  {
   "cell_type": "code",
   "execution_count": 120,
   "metadata": {},
   "outputs": [],
   "source": [
    "tfidf_product_title_vectorizer = TfidfVectorizer(min_df=3,max_df=300)\n",
    "product_title_tfidf_train = tfidf_product_title_vectorizer.fit_transform(df_train['ste_cleaned_product_title'])\n",
    "product_title_tfidf_cv = tfidf_product_title_vectorizer.transform(df_cv['ste_cleaned_product_title'])\n",
    "product_title_tfidf_test = tfidf_product_title_vectorizer.transform(df_test['ste_cleaned_product_title'])"
   ]
  },
  {
   "cell_type": "code",
   "execution_count": 121,
   "metadata": {},
   "outputs": [
    {
     "data": {
      "text/plain": [
       "((7338, 2903), (1524, 2903))"
      ]
     },
     "execution_count": 121,
     "metadata": {},
     "output_type": "execute_result"
    }
   ],
   "source": [
    "product_title_tfidf_train.shape,product_title_tfidf_test.shape"
   ]
  },
  {
   "cell_type": "code",
   "execution_count": 50,
   "metadata": {},
   "outputs": [],
   "source": [
    "pickle.dump((product_title_tfidf_train, product_title_tfidf_cv, product_title_tfidf_test),open('data/product_title_tfidf.pkl','wb'))"
   ]
  },
  {
   "cell_type": "code",
   "execution_count": 51,
   "metadata": {},
   "outputs": [],
   "source": [
    "# product_title_tfidf_train, product_title_tfidf_cv, product_title_tfidf_test = pickle.load(open('data/product_title_tfidf.pkl','rb'))"
   ]
  },
  {
   "cell_type": "code",
   "execution_count": 52,
   "metadata": {},
   "outputs": [],
   "source": [
    "pickle.dump((tfidf_product_title_vectorizer),open('data/product_title_vectorizer.pkl','wb'))"
   ]
  },
  {
   "cell_type": "code",
   "execution_count": 53,
   "metadata": {},
   "outputs": [],
   "source": [
    "# tfidf_product_title_vectorizer = pickle.load(open('data/product_title_vectorizer.pkl','rb'))"
   ]
  },
  {
   "cell_type": "markdown",
   "metadata": {},
   "source": [
    "## Vectorizing the product title with TFIDF vectorizer with uni, bi and tri grams\n"
   ]
  },
  {
   "cell_type": "code",
   "execution_count": 128,
   "metadata": {},
   "outputs": [],
   "source": [
    "vectorizer = TfidfVectorizer(min_df=3,ngram_range=(1,3),max_df=500,max_features=500)\n",
    "product_title_tfidf_ngram_train = vectorizer.fit_transform(df_train['ste_cleaned_product_title'])\n",
    "product_title_tfidf_ngram_cv = vectorizer.transform(df_cv['ste_cleaned_product_title'])\n",
    "product_title_tfidf_ngram_test = vectorizer.transform(df_test['ste_cleaned_product_title'])"
   ]
  },
  {
   "cell_type": "code",
   "execution_count": 129,
   "metadata": {},
   "outputs": [
    {
     "data": {
      "text/plain": [
       "((7338, 500), (1524, 500))"
      ]
     },
     "execution_count": 129,
     "metadata": {},
     "output_type": "execute_result"
    }
   ],
   "source": [
    "product_title_tfidf_ngram_train.shape,product_title_tfidf_ngram_test.shape"
   ]
  },
  {
   "cell_type": "code",
   "execution_count": 130,
   "metadata": {},
   "outputs": [],
   "source": [
    "pickle.dump((product_title_tfidf_ngram_train, product_title_tfidf_ngram_cv, product_title_tfidf_ngram_test),open('data/product_title_tfidf_ngram.pkl','wb'))"
   ]
  },
  {
   "cell_type": "code",
   "execution_count": 57,
   "metadata": {},
   "outputs": [],
   "source": [
    "# product_title_tfidf_ngram_train, product_title_tfidf_ngram_cv, product_title_tfidf_ngram_test = pickle.load(open('data/product_title_tfidf_ngram.pkl','rb'))"
   ]
  },
  {
   "cell_type": "markdown",
   "metadata": {},
   "source": [
    "### Vectorizing the product title with W2V vectorizer"
   ]
  },
  {
   "cell_type": "code",
   "execution_count": 58,
   "metadata": {},
   "outputs": [],
   "source": [
    "def load_glove_model(path):\n",
    "    #Loading the glove vectors\n",
    "    with open(path, 'rb') as f:\n",
    "        model = pickle.load(f)\n",
    "        glove_words = set(model.keys())\n",
    "    return model,glove_words"
   ]
  },
  {
   "cell_type": "code",
   "execution_count": 59,
   "metadata": {},
   "outputs": [],
   "source": [
    "def get_W2V(column):\n",
    "    model,glove_words = load_glove_model('glove_vectors')\n",
    "    output = []\n",
    "    check = 0\n",
    "    for sentence in column:\n",
    "        # Intializing the vector with all zeroes\n",
    "        mean_vector = np.zeros(300)\n",
    "        count = 0\n",
    "        for word in sentence.split():\n",
    "            # For each word check the presence in glove words\n",
    "            if word in glove_words:\n",
    "                # Get the vector corresponding to that word\n",
    "                vector = model.get(word)\n",
    "                # Add all the vectors\n",
    "                mean_vector+=vector\n",
    "                count+=1\n",
    "        # Finding the mean\n",
    "        if(count!=0):\n",
    "            mean_vector = mean_vector/count\n",
    "        else:\n",
    "            check+=1\n",
    "\n",
    "        output.append(mean_vector)\n",
    "    print('All zero vectors are:',check)\n",
    "    output = np.array(output)\n",
    "    return output\n"
   ]
  },
  {
   "cell_type": "code",
   "execution_count": 60,
   "metadata": {},
   "outputs": [
    {
     "name": "stdout",
     "output_type": "stream",
     "text": [
      "All zero vectors are: 4\n",
      "All zero vectors are: 0\n",
      "All zero vectors are: 1\n"
     ]
    }
   ],
   "source": [
    "product_title_w2v_train = get_W2V(df_train.cleaned_product_title)\n",
    "product_title_w2v_cv    = get_W2V(df_cv.cleaned_product_title)\n",
    "product_title_w2v_test  = get_W2V(df_test.cleaned_product_title)"
   ]
  },
  {
   "cell_type": "code",
   "execution_count": 61,
   "metadata": {},
   "outputs": [],
   "source": [
    "pickle.dump((product_title_w2v_train, product_title_w2v_cv, product_title_w2v_test),open('data/product_title_w2v.pkl','wb'))"
   ]
  },
  {
   "cell_type": "code",
   "execution_count": 62,
   "metadata": {},
   "outputs": [],
   "source": [
    "# product_title_w2v_train, product_title_w2v_cv, product_title_w2v_test= pickle.load(open('data/product_title_w2v.pkl','rb'))"
   ]
  },
  {
   "cell_type": "code",
   "execution_count": 63,
   "metadata": {
    "scrolled": true
   },
   "outputs": [
    {
     "data": {
      "text/plain": [
       "((7338, 300), (1524, 300))"
      ]
     },
     "execution_count": 63,
     "metadata": {},
     "output_type": "execute_result"
    }
   ],
   "source": [
    "product_title_w2v_train.shape,product_title_w2v_test.shape"
   ]
  },
  {
   "cell_type": "markdown",
   "metadata": {},
   "source": [
    "### Vectorizing product title with TFIDF- W2V vectorizer"
   ]
  },
  {
   "cell_type": "code",
   "execution_count": 64,
   "metadata": {},
   "outputs": [],
   "source": [
    "tfidf_word_index_mappingdict = dict([(word,index) for index,word in enumerate(tfidf_product_title_vectorizer.get_feature_names())])"
   ]
  },
  {
   "cell_type": "code",
   "execution_count": 65,
   "metadata": {},
   "outputs": [],
   "source": [
    "def get_w2v_tfidf(column,vectorizer,tfidf_matrix):\n",
    "    \n",
    "    model,glove_words = load_glove_model('glove_vectors')\n",
    "    \n",
    "    tfidf_words = vectorizer.get_feature_names()\n",
    "    output = []\n",
    "    check = 0\n",
    "    for index,sentence in enumerate(column):\n",
    "\n",
    "        mean_vector = np.zeros(300)\n",
    "        count = 0\n",
    "\n",
    "        for word in sentence.split():\n",
    "            \n",
    "            if word in glove_words and word in tfidf_words:\n",
    "            \n",
    "                word_index =  tfidf_word_index_mappingdict[word]\n",
    "                tfidf_value = tfidf_matrix[index].toarray()[:,word_index]\n",
    "                if(tfidf_value>0):            \n",
    "                    vector = model.get(word)*tfidf_value\n",
    "                    mean_vector+=vector\n",
    "                    count+=1\n",
    "        \n",
    "        if(count>0):                                    \n",
    "            mean_vector = mean_vector/count        \n",
    "        else:\n",
    "            check+=1\n",
    "        output.append(mean_vector)\n",
    "    print('All zero vectors:',check)\n",
    "    output = np.array(output)\n",
    "    return output\n",
    "                \n",
    "            \n",
    "    "
   ]
  },
  {
   "cell_type": "code",
   "execution_count": 66,
   "metadata": {},
   "outputs": [
    {
     "name": "stdout",
     "output_type": "stream",
     "text": [
      "All zero vectors: 102\n"
     ]
    }
   ],
   "source": [
    "product_title_tfidf_w2v_train = get_w2v_tfidf(df_train.cleaned_product_title,\n",
    "                                              tfidf_product_title_vectorizer,\n",
    "                                              product_title_tfidf_train)"
   ]
  },
  {
   "cell_type": "code",
   "execution_count": 67,
   "metadata": {},
   "outputs": [
    {
     "name": "stdout",
     "output_type": "stream",
     "text": [
      "All zero vectors: 18\n"
     ]
    }
   ],
   "source": [
    "product_title_tfidf_w2v_cv = get_w2v_tfidf(df_cv.cleaned_product_title,\n",
    "                                              tfidf_product_title_vectorizer,\n",
    "                                              product_title_tfidf_cv)"
   ]
  },
  {
   "cell_type": "code",
   "execution_count": 68,
   "metadata": {},
   "outputs": [
    {
     "name": "stdout",
     "output_type": "stream",
     "text": [
      "All zero vectors: 25\n"
     ]
    }
   ],
   "source": [
    "product_title_tfidf_w2v_test = get_w2v_tfidf(df_test.cleaned_product_title,\n",
    "                                              tfidf_product_title_vectorizer,\n",
    "                                              product_title_tfidf_test)"
   ]
  },
  {
   "cell_type": "code",
   "execution_count": 69,
   "metadata": {},
   "outputs": [],
   "source": [
    "pickle.dump((product_title_tfidf_w2v_train, product_title_tfidf_w2v_cv, product_title_tfidf_w2v_test),open('data/product_title_tfidf_w2v.pkl','wb'))"
   ]
  },
  {
   "cell_type": "code",
   "execution_count": 70,
   "metadata": {},
   "outputs": [],
   "source": [
    "# product_title_tfidf_w2v_train, product_title_tfidf_w2v_cv, product_title_tfidf_w2v_test= pickle.load(open('data/product_title_tfidf_w2v.pkl','rb'))"
   ]
  },
  {
   "cell_type": "markdown",
   "metadata": {},
   "source": [
    "## Vectorizing the product description with TFIDF vectorizer."
   ]
  },
  {
   "cell_type": "code",
   "execution_count": 71,
   "metadata": {},
   "outputs": [],
   "source": [
    "tfidf_product_description_vectorizer = TfidfVectorizer(min_df=3)\n",
    "product_description_tfidf_train = tfidf_product_description_vectorizer.fit_transform(df_train['ste_cleaned_product_description'])\n",
    "product_description_tfidf_cv    = tfidf_product_description_vectorizer.transform(df_cv['ste_cleaned_product_description'])\n",
    "product_description_tfidf_test  = tfidf_product_description_vectorizer.transform(df_test['ste_cleaned_product_description'])"
   ]
  },
  {
   "cell_type": "code",
   "execution_count": 72,
   "metadata": {},
   "outputs": [
    {
     "data": {
      "text/plain": [
       "(7338, 6666)"
      ]
     },
     "execution_count": 72,
     "metadata": {},
     "output_type": "execute_result"
    }
   ],
   "source": [
    "product_description_tfidf_train.shape"
   ]
  },
  {
   "cell_type": "code",
   "execution_count": 73,
   "metadata": {},
   "outputs": [],
   "source": [
    "pickle.dump((product_description_tfidf_train, product_description_tfidf_cv, product_description_tfidf_test),open('data/product_description_tfidf.pkl','wb'))"
   ]
  },
  {
   "cell_type": "code",
   "execution_count": 74,
   "metadata": {},
   "outputs": [],
   "source": [
    "# product_description_tfidf_train, product_description_tfidf_cv, product_description_tfidf_test= pickle.load(open('data/product_description_tfidf.pkl','rb'))"
   ]
  },
  {
   "cell_type": "code",
   "execution_count": 75,
   "metadata": {},
   "outputs": [],
   "source": [
    "pickle.dump((tfidf_product_description_vectorizer),open('data/tfidf_product_description_vectorizer.pkl','wb'))"
   ]
  },
  {
   "cell_type": "code",
   "execution_count": 76,
   "metadata": {},
   "outputs": [],
   "source": [
    "# tfidf_product_description_vectorizer = pickle.load(open('data/tfidf_product_description_vectorizer.pkl','rb'))"
   ]
  },
  {
   "cell_type": "markdown",
   "metadata": {},
   "source": [
    "## Vectorizing the product description with TFIDF vectorizer and data with uni,bi and tri grams."
   ]
  },
  {
   "cell_type": "code",
   "execution_count": 131,
   "metadata": {},
   "outputs": [],
   "source": [
    "tfidf_ngram_product_description_vectorizer = TfidfVectorizer(min_df=3,ngram_range=(1,2),max_features=500)\n",
    "product_description_tfidf_ngram_train = tfidf_ngram_product_description_vectorizer.fit_transform(df_train['ste_cleaned_product_description']+df_train['ste_cleaned_product_title'])\n",
    "product_description_tfidf_ngram_cv    = tfidf_ngram_product_description_vectorizer.transform(df_cv['ste_cleaned_product_description']+df_cv['ste_cleaned_product_title'])\n",
    "product_description_tfidf_ngram_test  = tfidf_ngram_product_description_vectorizer.transform(df_test['ste_cleaned_product_description']+df_test['ste_cleaned_product_title'])"
   ]
  },
  {
   "cell_type": "code",
   "execution_count": 132,
   "metadata": {},
   "outputs": [
    {
     "data": {
      "text/plain": [
       "(7338, 500)"
      ]
     },
     "execution_count": 132,
     "metadata": {},
     "output_type": "execute_result"
    }
   ],
   "source": [
    "product_description_tfidf_ngram_train.shape"
   ]
  },
  {
   "cell_type": "code",
   "execution_count": 133,
   "metadata": {},
   "outputs": [],
   "source": [
    "pickle.dump((product_description_tfidf_ngram_train, product_description_tfidf_ngram_cv, product_description_tfidf_ngram_test),open('data/product_description_tfidf_ngram.pkl','wb'))"
   ]
  },
  {
   "cell_type": "code",
   "execution_count": 80,
   "metadata": {},
   "outputs": [],
   "source": [
    "# product_description_tfidf_ngram_train, product_description_tfidf_ngram_cv, product_description_tfidf_ngram_test= pickle.load(open('data/product_description_tfidf_ngram.pkl','rb'))"
   ]
  },
  {
   "cell_type": "code",
   "execution_count": 81,
   "metadata": {},
   "outputs": [],
   "source": [
    "pickle.dump((tfidf_ngram_product_description_vectorizer),open('data/tfidf_ngram_product_description_vectorizer.pkl','wb'))"
   ]
  },
  {
   "cell_type": "code",
   "execution_count": null,
   "metadata": {},
   "outputs": [],
   "source": []
  },
  {
   "cell_type": "code",
   "execution_count": 82,
   "metadata": {},
   "outputs": [],
   "source": [
    "# tfidf_product_description_vectorizer = pickle.load(open('data/tfidf_product_description_vectorizer.pkl','rb'))"
   ]
  },
  {
   "cell_type": "markdown",
   "metadata": {},
   "source": [
    "### Vectorizing the product description with W2V vectorizer"
   ]
  },
  {
   "cell_type": "code",
   "execution_count": 83,
   "metadata": {},
   "outputs": [
    {
     "name": "stdout",
     "output_type": "stream",
     "text": [
      "All zero vectors are: 1785\n",
      "All zero vectors are: 307\n",
      "All zero vectors are: 376\n"
     ]
    }
   ],
   "source": [
    "product_description_w2v_train = get_W2V(df_train.cleaned_product_description)\n",
    "product_description_w2v_cv    = get_W2V(df_cv.cleaned_product_description)\n",
    "product_description_w2v_test  = get_W2V(df_test.cleaned_product_description)"
   ]
  },
  {
   "cell_type": "code",
   "execution_count": 84,
   "metadata": {},
   "outputs": [
    {
     "data": {
      "text/plain": [
       "((7338, 300), (1524, 300))"
      ]
     },
     "execution_count": 84,
     "metadata": {},
     "output_type": "execute_result"
    }
   ],
   "source": [
    "product_description_w2v_train.shape, product_description_w2v_test.shape"
   ]
  },
  {
   "cell_type": "code",
   "execution_count": 85,
   "metadata": {},
   "outputs": [],
   "source": [
    "pickle.dump((product_description_w2v_train, product_description_w2v_cv, product_description_w2v_test),open('data/product_description_w2v.pkl','wb'))"
   ]
  },
  {
   "cell_type": "code",
   "execution_count": 86,
   "metadata": {},
   "outputs": [],
   "source": [
    "# product_description_w2v_train, product_description_w2v_cv, product_description_w2v_test= pickle.load(open('data/product_description_w2v.pkl','rb'))"
   ]
  },
  {
   "cell_type": "markdown",
   "metadata": {},
   "source": [
    "### Vectorizing the product description with TFIDF - W2V "
   ]
  },
  {
   "cell_type": "code",
   "execution_count": 87,
   "metadata": {},
   "outputs": [],
   "source": [
    "tfidf_word_index_mappingdict = dict([(word,index) for index,word in enumerate(tfidf_product_description_vectorizer.get_feature_names())])"
   ]
  },
  {
   "cell_type": "code",
   "execution_count": 88,
   "metadata": {},
   "outputs": [
    {
     "name": "stdout",
     "output_type": "stream",
     "text": [
      "All zero vectors: 1787\n"
     ]
    }
   ],
   "source": [
    "product_description_tfidf_w2v_train = get_w2v_tfidf(df_train.cleaned_product_description,\n",
    "                                              tfidf_product_description_vectorizer,\n",
    "                                              product_description_tfidf_train)"
   ]
  },
  {
   "cell_type": "code",
   "execution_count": 89,
   "metadata": {},
   "outputs": [
    {
     "name": "stdout",
     "output_type": "stream",
     "text": [
      "All zero vectors: 308\n"
     ]
    }
   ],
   "source": [
    "product_description_tfidf_w2v_cv = get_w2v_tfidf(df_cv.cleaned_product_description,\n",
    "                                              tfidf_product_description_vectorizer,\n",
    "                                              product_description_tfidf_cv)"
   ]
  },
  {
   "cell_type": "code",
   "execution_count": 90,
   "metadata": {},
   "outputs": [
    {
     "name": "stdout",
     "output_type": "stream",
     "text": [
      "All zero vectors: 376\n"
     ]
    }
   ],
   "source": [
    "product_description_tfidf_w2v_test = get_w2v_tfidf(df_test.cleaned_product_description,\n",
    "                                              tfidf_product_description_vectorizer,\n",
    "                                              product_description_tfidf_test)"
   ]
  },
  {
   "cell_type": "code",
   "execution_count": 91,
   "metadata": {},
   "outputs": [],
   "source": [
    "pickle.dump((product_description_tfidf_w2v_train, product_description_tfidf_w2v_cv, product_description_tfidf_w2v_test),open('data/product_description_tfidf_w2v.pkl','wb'))"
   ]
  },
  {
   "cell_type": "code",
   "execution_count": 92,
   "metadata": {},
   "outputs": [],
   "source": [
    "# product_description_tfidf_w2v_cv, product_description_tfidf_w2v_cv, product_description_tfidf_w2v_test= pickle.load(open('data/product_description_tfidf_w2v.pkl','rb'))"
   ]
  },
  {
   "cell_type": "code",
   "execution_count": 93,
   "metadata": {},
   "outputs": [
    {
     "data": {
      "text/html": [
       "<div>\n",
       "<style scoped>\n",
       "    .dataframe tbody tr th:only-of-type {\n",
       "        vertical-align: middle;\n",
       "    }\n",
       "\n",
       "    .dataframe tbody tr th {\n",
       "        vertical-align: top;\n",
       "    }\n",
       "\n",
       "    .dataframe thead th {\n",
       "        text-align: right;\n",
       "    }\n",
       "</style>\n",
       "<table border=\"1\" class=\"dataframe\">\n",
       "  <thead>\n",
       "    <tr style=\"text-align: right;\">\n",
       "      <th></th>\n",
       "      <th>id</th>\n",
       "      <th>query</th>\n",
       "      <th>product_title</th>\n",
       "      <th>product_description</th>\n",
       "      <th>median_relevance</th>\n",
       "      <th>relevance_variance</th>\n",
       "      <th>cleaned_query1</th>\n",
       "      <th>cleaned_query</th>\n",
       "      <th>cleaned_product_title</th>\n",
       "      <th>cleaned_product_description</th>\n",
       "      <th>ste_cleaned_product_title</th>\n",
       "      <th>ste_cleaned_product_description</th>\n",
       "      <th>product_description_len</th>\n",
       "      <th>product_title_len</th>\n",
       "      <th>query_product_title_words_overlap_nopre</th>\n",
       "      <th>query_product_title_words_overlap</th>\n",
       "    </tr>\n",
       "  </thead>\n",
       "  <tbody>\n",
       "    <tr>\n",
       "      <th>0</th>\n",
       "      <td>1</td>\n",
       "      <td>bridal shower decorations</td>\n",
       "      <td>Accent Pillow with Heart Design - Red/Black</td>\n",
       "      <td>Red satin accent pillow embroidered with a hea...</td>\n",
       "      <td>1</td>\n",
       "      <td>0.0</td>\n",
       "      <td>bridal shower decor</td>\n",
       "      <td>bridal_shower_decorations</td>\n",
       "      <td>accent pillow heart design red black</td>\n",
       "      <td>red satin accent pillow embroidered heart blac...</td>\n",
       "      <td>accent pillow heart design red black</td>\n",
       "      <td>red satin accent pillow embroid heart black th...</td>\n",
       "      <td>36</td>\n",
       "      <td>50</td>\n",
       "      <td>0.0</td>\n",
       "      <td>0.0</td>\n",
       "    </tr>\n",
       "    <tr>\n",
       "      <th>1</th>\n",
       "      <td>2</td>\n",
       "      <td>led christmas lights</td>\n",
       "      <td>Set of 10 Battery Operated Multi LED Train Chr...</td>\n",
       "      <td>Set of 10 Battery Operated Train Christmas Lig...</td>\n",
       "      <td>4</td>\n",
       "      <td>0.0</td>\n",
       "      <td>led christma light</td>\n",
       "      <td>led_christmas_lights</td>\n",
       "      <td>set 10 battery operated multi led train christ...</td>\n",
       "      <td>set 10 battery operated train christmas lights...</td>\n",
       "      <td>set 10 batteri oper multi led train christma l...</td>\n",
       "      <td>set 10 batteri oper train christma light item ...</td>\n",
       "      <td>61</td>\n",
       "      <td>643</td>\n",
       "      <td>1.0</td>\n",
       "      <td>1.0</td>\n",
       "    </tr>\n",
       "  </tbody>\n",
       "</table>\n",
       "</div>"
      ],
      "text/plain": [
       "   id                      query  \\\n",
       "0   1  bridal shower decorations   \n",
       "1   2       led christmas lights   \n",
       "\n",
       "                                       product_title  \\\n",
       "0        Accent Pillow with Heart Design - Red/Black   \n",
       "1  Set of 10 Battery Operated Multi LED Train Chr...   \n",
       "\n",
       "                                 product_description  median_relevance  \\\n",
       "0  Red satin accent pillow embroidered with a hea...                 1   \n",
       "1  Set of 10 Battery Operated Train Christmas Lig...                 4   \n",
       "\n",
       "   relevance_variance       cleaned_query1              cleaned_query  \\\n",
       "0                 0.0  bridal shower decor  bridal_shower_decorations   \n",
       "1                 0.0   led christma light       led_christmas_lights   \n",
       "\n",
       "                               cleaned_product_title  \\\n",
       "0               accent pillow heart design red black   \n",
       "1  set 10 battery operated multi led train christ...   \n",
       "\n",
       "                         cleaned_product_description  \\\n",
       "0  red satin accent pillow embroidered heart blac...   \n",
       "1  set 10 battery operated train christmas lights...   \n",
       "\n",
       "                           ste_cleaned_product_title  \\\n",
       "0               accent pillow heart design red black   \n",
       "1  set 10 batteri oper multi led train christma l...   \n",
       "\n",
       "                     ste_cleaned_product_description  product_description_len  \\\n",
       "0  red satin accent pillow embroid heart black th...                       36   \n",
       "1  set 10 batteri oper train christma light item ...                       61   \n",
       "\n",
       "   product_title_len  query_product_title_words_overlap_nopre  \\\n",
       "0                 50                                      0.0   \n",
       "1                643                                      1.0   \n",
       "\n",
       "   query_product_title_words_overlap  \n",
       "0                                0.0  \n",
       "1                                1.0  "
      ]
     },
     "execution_count": 93,
     "metadata": {},
     "output_type": "execute_result"
    }
   ],
   "source": [
    "df.head(2)"
   ]
  },
  {
   "cell_type": "code",
   "execution_count": null,
   "metadata": {},
   "outputs": [],
   "source": []
  },
  {
   "cell_type": "code",
   "execution_count": null,
   "metadata": {},
   "outputs": [],
   "source": []
  },
  {
   "cell_type": "code",
   "execution_count": null,
   "metadata": {},
   "outputs": [],
   "source": []
  },
  {
   "cell_type": "code",
   "execution_count": null,
   "metadata": {},
   "outputs": [],
   "source": []
  },
  {
   "cell_type": "code",
   "execution_count": null,
   "metadata": {},
   "outputs": [],
   "source": []
  },
  {
   "cell_type": "code",
   "execution_count": null,
   "metadata": {},
   "outputs": [],
   "source": []
  },
  {
   "cell_type": "code",
   "execution_count": null,
   "metadata": {},
   "outputs": [],
   "source": []
  }
 ],
 "metadata": {
  "kernelspec": {
   "display_name": "Python 3",
   "language": "python",
   "name": "python3"
  },
  "language_info": {
   "codemirror_mode": {
    "name": "ipython",
    "version": 3
   },
   "file_extension": ".py",
   "mimetype": "text/x-python",
   "name": "python",
   "nbconvert_exporter": "python",
   "pygments_lexer": "ipython3",
   "version": "3.7.4"
  }
 },
 "nbformat": 4,
 "nbformat_minor": 4
}
