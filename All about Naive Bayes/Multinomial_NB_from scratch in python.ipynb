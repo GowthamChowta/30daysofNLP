{
 "cells": [
  {
   "cell_type": "code",
   "execution_count": 1,
   "metadata": {},
   "outputs": [],
   "source": [
    "# Author - Gowtham Ch\n",
    "# https://www.linkedin.com/in/gauthamchowta/"
   ]
  },
  {
   "cell_type": "code",
   "execution_count": 2,
   "metadata": {},
   "outputs": [
    {
     "name": "stderr",
     "output_type": "stream",
     "text": [
      "C:\\ProgramData\\Anaconda3\\lib\\site-packages\\numpy\\_distributor_init.py:32: UserWarning: loaded more than 1 DLL from .libs:\n",
      "C:\\ProgramData\\Anaconda3\\lib\\site-packages\\numpy\\.libs\\libopenblas.PYQHXLVVQ7VESDPUVUADXEVJOBGHJPAY.gfortran-win_amd64.dll\n",
      "C:\\ProgramData\\Anaconda3\\lib\\site-packages\\numpy\\.libs\\libopenblas.WCDJNK7YVMPZQ2ME2ZZHJJRJ3JIKNDB7.gfortran-win_amd64.dll\n",
      "  stacklevel=1)\n"
     ]
    }
   ],
   "source": [
    "import numpy as np\n",
    "from sklearn.feature_extraction.text import CountVectorizer\n",
    "from sklearn.naive_bayes import MultinomialNB\n",
    "from sklearn.preprocessing import LabelBinarizer\n",
    "import pandas as pd"
   ]
  },
  {
   "cell_type": "code",
   "execution_count": 3,
   "metadata": {},
   "outputs": [
    {
     "data": {
      "text/html": [
       "<div>\n",
       "<style scoped>\n",
       "    .dataframe tbody tr th:only-of-type {\n",
       "        vertical-align: middle;\n",
       "    }\n",
       "\n",
       "    .dataframe tbody tr th {\n",
       "        vertical-align: top;\n",
       "    }\n",
       "\n",
       "    .dataframe thead th {\n",
       "        text-align: right;\n",
       "    }\n",
       "</style>\n",
       "<table border=\"1\" class=\"dataframe\">\n",
       "  <thead>\n",
       "    <tr style=\"text-align: right;\">\n",
       "      <th></th>\n",
       "      <th>sent</th>\n",
       "      <th>class</th>\n",
       "    </tr>\n",
       "  </thead>\n",
       "  <tbody>\n",
       "    <tr>\n",
       "      <th>0</th>\n",
       "      <td>This is my book</td>\n",
       "      <td>stmt</td>\n",
       "    </tr>\n",
       "    <tr>\n",
       "      <th>1</th>\n",
       "      <td>They are novels</td>\n",
       "      <td>stmt</td>\n",
       "    </tr>\n",
       "    <tr>\n",
       "      <th>2</th>\n",
       "      <td>have you read this book</td>\n",
       "      <td>question</td>\n",
       "    </tr>\n",
       "    <tr>\n",
       "      <th>3</th>\n",
       "      <td>who is the author</td>\n",
       "      <td>question</td>\n",
       "    </tr>\n",
       "    <tr>\n",
       "      <th>4</th>\n",
       "      <td>what are the characters</td>\n",
       "      <td>question</td>\n",
       "    </tr>\n",
       "    <tr>\n",
       "      <th>5</th>\n",
       "      <td>This is how I bought the book</td>\n",
       "      <td>stmt</td>\n",
       "    </tr>\n",
       "    <tr>\n",
       "      <th>6</th>\n",
       "      <td>I like fictions</td>\n",
       "      <td>stmt</td>\n",
       "    </tr>\n",
       "    <tr>\n",
       "      <th>7</th>\n",
       "      <td>what is your favorite book</td>\n",
       "      <td>question</td>\n",
       "    </tr>\n",
       "  </tbody>\n",
       "</table>\n",
       "</div>"
      ],
      "text/plain": [
       "                            sent     class\n",
       "0                This is my book      stmt\n",
       "1                They are novels      stmt\n",
       "2        have you read this book  question\n",
       "3              who is the author  question\n",
       "4        what are the characters  question\n",
       "5  This is how I bought the book      stmt\n",
       "6                I like fictions      stmt\n",
       "7     what is your favorite book  question"
      ]
     },
     "execution_count": 3,
     "metadata": {},
     "output_type": "execute_result"
    }
   ],
   "source": [
    "columns = ['sent', 'class']\n",
    "rows = []\n",
    "\n",
    "rows = [['This is my book', 'stmt'], \n",
    "        ['They are novels', 'stmt'],\n",
    "        ['have you read this book', 'question'],\n",
    "        ['who is the author', 'question'],\n",
    "        ['what are the characters', 'question'],\n",
    "        ['This is how I bought the book', 'stmt'],\n",
    "        ['I like fictions', 'stmt'],\n",
    "        ['what is your favorite book', 'question']]\n",
    "\n",
    "df = pd.DataFrame(rows, columns=columns)\n",
    "df"
   ]
  },
  {
   "cell_type": "code",
   "execution_count": 4,
   "metadata": {},
   "outputs": [],
   "source": [
    "def convert_to_BOW(corpus):\n",
    "    \n",
    "    # Given text return the BOW representation of the words\n",
    "    vectorizer = CountVectorizer()\n",
    "    X = vectorizer.fit_transform(corpus)\n",
    "    name_index = dict([(name,index) for index,name in enumerate(vectorizer.get_feature_names())])\n",
    "    return X.toarray(),name_index"
   ]
  },
  {
   "cell_type": "code",
   "execution_count": 5,
   "metadata": {},
   "outputs": [],
   "source": [
    "def count_based_on_class(X,y):\n",
    "    \n",
    "    y  = np.array(y)\n",
    "    lb = LabelBinarizer()\n",
    "    y = lb.fit_transform(y)\n",
    "    if y.shape[1] == 1:\n",
    "        y = np.concatenate((1 - y, y), axis=1)\n",
    "    \n",
    "    #Counts\n",
    "    count_matrix = np.matmul(y.T,X)\n",
    "    class_count = y.sum(axis=0)\n",
    "    return count_matrix,y,lb.classes_,class_count\n",
    "    "
   ]
  },
  {
   "cell_type": "code",
   "execution_count": 6,
   "metadata": {},
   "outputs": [],
   "source": [
    "def feature_log_probabilities(count_matrix,alpha=1):\n",
    "    # Adding alpha to the count\n",
    "    print('Count Matrix')\n",
    "    print(count_matrix)\n",
    "    smoothed_version = count_matrix+alpha\n",
    "    # Calculating the number of words in a given class\n",
    "    print('Smoothed version')\n",
    "    print(smoothed_version)\n",
    "    den = smoothed_version.sum(axis = 1)\n",
    "    # Reshaping it to 2D column\n",
    "    den = den.reshape(-1,1)\n",
    "    print('Denominator - total words present in a given class')\n",
    "    print(den)\n",
    "    # probability is num/den -- log probability is log(num)- log(den)\n",
    "    log_probabilities = np.log(smoothed_version)-np.log(den)\n",
    "    \n",
    "    return log_probabilities"
   ]
  },
  {
   "cell_type": "code",
   "execution_count": 7,
   "metadata": {},
   "outputs": [],
   "source": [
    "def calculate_prior_probs(class_count):\n",
    "    \n",
    "    num = class_count\n",
    "    den = class_count.sum()\n",
    "    \n",
    "    return np.log(num)-np.log(den)\n",
    "    "
   ]
  },
  {
   "cell_type": "code",
   "execution_count": 8,
   "metadata": {},
   "outputs": [],
   "source": [
    "def predict(query_point,log_probabilities,prior_probabilities,classes):\n",
    "    output = np.matmul(log_probabilities,query_point.T) + prior_probabilities\n",
    "    index = np.argmax(output)\n",
    "    return classes[index]"
   ]
  },
  {
   "cell_type": "code",
   "execution_count": 9,
   "metadata": {},
   "outputs": [
    {
     "name": "stdout",
     "output_type": "stream",
     "text": [
      "Count Matrix\n",
      "[[1 1 2 0 1 1 0 1 0 2 0 0 0 1 2 0 1 2 1 1 1]\n",
      " [1 0 2 1 0 0 1 0 1 2 1 1 1 0 1 1 2 0 0 0 0]]\n",
      "Smoothed version\n",
      "[[2 2 3 1 2 2 1 2 1 3 1 1 1 2 3 1 2 3 2 2 2]\n",
      " [2 1 3 2 1 1 2 1 2 3 2 2 2 1 2 2 3 1 1 1 1]]\n",
      "Denominator - total words present in a given class\n",
      "[[39]\n",
      " [36]]\n",
      "Predicted class -  question\n",
      "Actual class - question\n"
     ]
    }
   ],
   "source": [
    "X,name_index = convert_to_BOW(df.sent)\n",
    "count_matrix,y,classes,class_count = count_based_on_class(X,df['class'])\n",
    "\n",
    "log_probabilities = feature_log_probabilities(count_matrix,alpha = 1)\n",
    "prior_probabilities = calculate_prior_probs(class_count)\n",
    "\n",
    "output = predict(X[2],log_probabilities,prior_probabilities,classes)\n",
    "\n",
    "print('Predicted class - ',output)\n",
    "print('Actual class -',df['class'][2])"
   ]
  },
  {
   "cell_type": "code",
   "execution_count": 10,
   "metadata": {},
   "outputs": [
    {
     "name": "stdout",
     "output_type": "stream",
     "text": [
      "Sklearn feature log-probabilities\n",
      " [[-2.97041447 -2.97041447 -2.56494936 -3.66356165 -2.97041447 -2.97041447\n",
      "  -3.66356165 -2.97041447 -3.66356165 -2.56494936 -3.66356165 -3.66356165\n",
      "  -3.66356165 -2.97041447 -2.56494936 -3.66356165 -2.97041447 -2.56494936\n",
      "  -2.97041447 -2.97041447 -2.97041447]\n",
      " [-2.89037176 -3.58351894 -2.48490665 -2.89037176 -3.58351894 -3.58351894\n",
      "  -2.89037176 -3.58351894 -2.89037176 -2.48490665 -2.89037176 -2.89037176\n",
      "  -2.89037176 -3.58351894 -2.89037176 -2.89037176 -2.48490665 -3.58351894\n",
      "  -3.58351894 -3.58351894 -3.58351894]]\n",
      "Manually implemented probabilities\n",
      " [[-2.97041447 -2.97041447 -2.56494936 -3.66356165 -2.97041447 -2.97041447\n",
      "  -3.66356165 -2.97041447 -3.66356165 -2.56494936 -3.66356165 -3.66356165\n",
      "  -3.66356165 -2.97041447 -2.56494936 -3.66356165 -2.97041447 -2.56494936\n",
      "  -2.97041447 -2.97041447 -2.97041447]\n",
      " [-2.89037176 -3.58351894 -2.48490665 -2.89037176 -3.58351894 -3.58351894\n",
      "  -2.89037176 -3.58351894 -2.89037176 -2.48490665 -2.89037176 -2.89037176\n",
      "  -2.89037176 -3.58351894 -2.89037176 -2.89037176 -2.48490665 -3.58351894\n",
      "  -3.58351894 -3.58351894 -3.58351894]]\n",
      "Difference between actual and expected implementation\n",
      " [[0. 0. 0. 0. 0. 0. 0. 0. 0. 0. 0. 0. 0. 0. 0. 0. 0. 0. 0. 0. 0.]\n",
      " [0. 0. 0. 0. 0. 0. 0. 0. 0. 0. 0. 0. 0. 0. 0. 0. 0. 0. 0. 0. 0.]]\n",
      "\n",
      "Sklearn predict ['question']\n",
      "Manual predict question\n"
     ]
    }
   ],
   "source": [
    "from sklearn.naive_bayes import MultinomialNB\n",
    "clf = MultinomialNB()\n",
    "clf.fit(X, df['class'])\n",
    "print('Sklearn feature log-probabilities\\n',clf.feature_log_prob_)\n",
    "print('Manually implemented probabilities\\n',log_probabilities)\n",
    "print('Difference between actual and expected implementation\\n'\n",
    "      ,log_probabilities-clf.feature_log_prob_)\n",
    "print()\n",
    "print('Sklearn predict',clf.predict(X[4:5]))\n",
    "print('Manual predict',predict(X[4:5],log_probabilities,prior_probabilities,classes))"
   ]
  },
  {
   "cell_type": "code",
   "execution_count": 11,
   "metadata": {},
   "outputs": [
    {
     "data": {
      "text/plain": [
       "array([-0.69314718, -0.69314718])"
      ]
     },
     "execution_count": 11,
     "metadata": {},
     "output_type": "execute_result"
    }
   ],
   "source": [
    "clf.class_log_prior_"
   ]
  },
  {
   "cell_type": "code",
   "execution_count": 12,
   "metadata": {},
   "outputs": [
    {
     "data": {
      "text/plain": [
       "array([-0.69314718, -0.69314718])"
      ]
     },
     "execution_count": 12,
     "metadata": {},
     "output_type": "execute_result"
    }
   ],
   "source": [
    "prior_probabilities"
   ]
  }
 ],
 "metadata": {
  "kernelspec": {
   "display_name": "Python 3",
   "language": "python",
   "name": "python3"
  },
  "language_info": {
   "codemirror_mode": {
    "name": "ipython",
    "version": 3
   },
   "file_extension": ".py",
   "mimetype": "text/x-python",
   "name": "python",
   "nbconvert_exporter": "python",
   "pygments_lexer": "ipython3",
   "version": "3.7.4"
  }
 },
 "nbformat": 4,
 "nbformat_minor": 4
}
