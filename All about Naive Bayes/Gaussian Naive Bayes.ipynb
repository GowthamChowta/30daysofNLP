{
 "cells": [
  {
   "cell_type": "code",
   "execution_count": 1,
   "metadata": {},
   "outputs": [],
   "source": [
    "# Author - Gowtham Ch\n",
    "# https://www.linkedin.com/in/gauthamchowta/"
   ]
  },
  {
   "cell_type": "code",
   "execution_count": 2,
   "metadata": {},
   "outputs": [
    {
     "name": "stderr",
     "output_type": "stream",
     "text": [
      "C:\\ProgramData\\Anaconda3\\lib\\site-packages\\numpy\\_distributor_init.py:32: UserWarning: loaded more than 1 DLL from .libs:\n",
      "C:\\ProgramData\\Anaconda3\\lib\\site-packages\\numpy\\.libs\\libopenblas.PYQHXLVVQ7VESDPUVUADXEVJOBGHJPAY.gfortran-win_amd64.dll\n",
      "C:\\ProgramData\\Anaconda3\\lib\\site-packages\\numpy\\.libs\\libopenblas.WCDJNK7YVMPZQ2ME2ZZHJJRJ3JIKNDB7.gfortran-win_amd64.dll\n",
      "  stacklevel=1)\n"
     ]
    }
   ],
   "source": [
    "from sklearn.preprocessing import LabelBinarizer\n",
    "import matplotlib.pyplot as plt\n",
    "from matplotlib.colors import ListedColormap\n",
    "import matplotlib.pyplot as plt\n",
    "import warnings\n",
    "import numpy as np\n",
    "from sklearn.naive_bayes import GaussianNB"
   ]
  },
  {
   "cell_type": "code",
   "execution_count": 3,
   "metadata": {},
   "outputs": [],
   "source": [
    "X  = np.array([[-0.8, -0.8],[-1.8, -0.8],[-2.8, -1.8],[ 1.2,  1.2], [ 2.2,  1.2],[ 3.2,  2.2]])\n",
    "y = np.array([1, 1, 1, 2, 2, 2])"
   ]
  },
  {
   "cell_type": "code",
   "execution_count": 4,
   "metadata": {},
   "outputs": [],
   "source": [
    "def preprocess_target(y):\n",
    "    \n",
    "    y  = np.array(y)\n",
    "    lb = LabelBinarizer()\n",
    "    y = lb.fit_transform(y)\n",
    "    if y.shape[1] == 1:\n",
    "        y = np.concatenate((1 - y, y), axis=1)\n",
    "    return y\n",
    "    "
   ]
  },
  {
   "cell_type": "code",
   "execution_count": 5,
   "metadata": {},
   "outputs": [],
   "source": [
    "y = preprocess_target(y)\n",
    "n_classes = y.shape[1]"
   ]
  },
  {
   "cell_type": "code",
   "execution_count": 6,
   "metadata": {
    "scrolled": true
   },
   "outputs": [
    {
     "data": {
      "text/plain": [
       "array([[1, 0],\n",
       "       [1, 0],\n",
       "       [1, 0],\n",
       "       [0, 1],\n",
       "       [0, 1],\n",
       "       [0, 1]])"
      ]
     },
     "execution_count": 6,
     "metadata": {},
     "output_type": "execute_result"
    }
   ],
   "source": [
    "y"
   ]
  },
  {
   "cell_type": "code",
   "execution_count": 7,
   "metadata": {},
   "outputs": [],
   "source": [
    "def cal_mean_var_based_on_class():\n",
    "    n_classes = y.shape[1]\n",
    "    mean_array = []\n",
    "    var_array = []\n",
    "    class_count = []\n",
    "    # For each class calculate the mean and variance\n",
    "    for j in range(n_classes):\n",
    "        mask = y[:,j].astype(bool)\n",
    "        X_feature = X[mask]\n",
    "        mean_array.append(np.mean(X_feature,axis = 0))\n",
    "        var_array.append(np.var(X_feature,axis = 0))\n",
    "        # Appending the class count for calculating prior probabilities\n",
    "        class_count.append(sum(mask))\n",
    "        \n",
    "    return mean_array,var_array,class_count\n",
    "    "
   ]
  },
  {
   "cell_type": "code",
   "execution_count": 8,
   "metadata": {},
   "outputs": [],
   "source": [
    "mean_array,var_array,class_count = cal_mean_var_based_on_class()"
   ]
  },
  {
   "cell_type": "code",
   "execution_count": 9,
   "metadata": {},
   "outputs": [],
   "source": [
    "def calculate_posterior_probs(query_point, mean_array,var_array,class_count,n_classes):\n",
    "    \n",
    "    probs = []\n",
    "    for i in range(n_classes):\n",
    "\n",
    "        mean = mean_array[i]\n",
    "        var = var_array[i]\n",
    "        \n",
    "        log_li = -0.5*(np.log(2*np.pi*var))  - 0.5*((query_point-mean)**2)/var\n",
    "        prior_prob = np.log(class_count[i]/sum(class_count))\n",
    "        probs.append(log_li.sum() + prior_prob)\n",
    "\n",
    "    return probs\n",
    "        \n",
    "    "
   ]
  },
  {
   "cell_type": "code",
   "execution_count": 10,
   "metadata": {},
   "outputs": [
    {
     "name": "stdout",
     "output_type": "stream",
     "text": [
      "Sklearn values:\n",
      "Mean is [[-1.8        -1.13333333]\n",
      " [ 2.2         1.53333333]]\n",
      "Variance is [[0.66666667 0.22222223]\n",
      " [0.66666667 0.22222223]]\n",
      "Probabilities\n",
      "[[ -2.576253  -20.5762527]]\n",
      "**************************************************\n",
      "Manual values:\n",
      "Mean is [array([-1.8       , -1.13333333]), array([2.2       , 1.53333333])]\n",
      "Var is [array([0.66666667, 0.22222222]), array([0.66666667, 0.22222222])]\n",
      "Probabilities\n",
      "[-2.576252994527072, -20.57625299452706]\n"
     ]
    }
   ],
   "source": [
    "\n",
    "X  = np.array([[-0.8, -0.8],[-1.8, -0.8],[-2.8, -1.8],[ 1.2,  1.2], [ 2.2,  1.2],[ 3.2,  2.2]])\n",
    "y = np.array([1, 1, 1, 2, 2, 2])\n",
    "\n",
    "\n",
    "clf = GaussianNB()\n",
    "clf.fit(X, y)\n",
    "\n",
    "\n",
    "# Manual implementation:\n",
    "# Step -1 preprocessing the target variables\n",
    "y = preprocess_target(y)\n",
    "\n",
    "# Step -2 Calculating the mean and variance based on the class values.\n",
    "mean_array,var_array,class_count = cal_mean_var_based_on_class()\n",
    "# Step -3 Calculating the likelihood probabilities.\n",
    "out =  calculate_posterior_probs(X[0],mean_array,var_array,class_count,n_classes)\n",
    "\n",
    "print('Sklearn values:')\n",
    "print('Mean is',clf.theta_)\n",
    "print('Variance is',clf.sigma_)\n",
    "print('Probabilities')\n",
    "print(clf._joint_log_likelihood(X[0:1]))\n",
    "print('*'*50)\n",
    "print('Manual values:')\n",
    "print('Mean is',mean_array)\n",
    "print('Var is',var_array)\n",
    "print('Probabilities')\n",
    "print(out)\n"
   ]
  },
  {
   "cell_type": "code",
   "execution_count": null,
   "metadata": {},
   "outputs": [],
   "source": []
  }
 ],
 "metadata": {
  "kernelspec": {
   "display_name": "Python 3",
   "language": "python",
   "name": "python3"
  },
  "language_info": {
   "codemirror_mode": {
    "name": "ipython",
    "version": 3
   },
   "file_extension": ".py",
   "mimetype": "text/x-python",
   "name": "python",
   "nbconvert_exporter": "python",
   "pygments_lexer": "ipython3",
   "version": "3.7.4"
  }
 },
 "nbformat": 4,
 "nbformat_minor": 4
}
